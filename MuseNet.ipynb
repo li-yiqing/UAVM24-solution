{
 "cells": [
  {
   "cell_type": "markdown",
   "metadata": {},
   "source": [
    "# MuseNet\n",
    "\n",
    "This notebook to test [MuseNet](https://github.com/wtyhub/MuseNet)\n"
   ]
  },
  {
   "cell_type": "code",
   "execution_count": 3,
   "metadata": {},
   "outputs": [],
   "source": [
    "import os\n",
    "import torch\n",
    "import torch.nn as nn \n",
    "from utils.common import setup_seed \n",
    "from utils.loader import init_dataset_train, init_dataset_test\n",
    "from utils.metrics import metrics \n",
    "\n",
    "from MuseNet.model import three_view_net\n",
    "from MuseNet.utils import extract_feature, get_id, extract_feature\n",
    "import yaml \n",
    "\n",
    "os.environ['TORCH_HOME']='./'\n",
    "\n",
    "class MuseNet_:\n",
    "    def __init__(self) -> None:\n",
    "        self.seed = 2024 \n",
    "        \n",
    "        setup_seed(self.seed)\n",
    "        self.model_dir = os.path.join(os.getcwd(), 'model', 'MuseNet')\n",
    "        os.environ['TORCH_HOME']='./' \n",
    "\n",
    "    def test(self, pth=None, query='drone', gallery='satellite', multiple_scale=[1], batchsize=128, style='mixed'):\n",
    "        # load config file\n",
    "        with open(os.path.join(self.model_dir, 'opts.yaml'), 'r') as stream:\n",
    "            config = yaml.safe_load(stream)\n",
    "        # load data\n",
    "        image_datasets, dataloaders, dataset_sizes = init_dataset_test(batchsize=batchsize, style=style, w=config['w'], h=config['h'])\n",
    "        # init label\n",
    "        gallery_name = 'gallery_' + gallery\n",
    "        query_name = 'query_' + query \n",
    "        gallery_label = get_id(image_datasets[gallery_name].imgs)\n",
    "        query_label = get_id(image_datasets[query_name].imgs)\n",
    "        # print(dataset_sizes[gallery_name])\n",
    "        \n",
    "        # load model\n",
    "        model_file = sorted([f for f in os.listdir(self.model_dir) if f.endswith('.pth')])[-1] if pth==None else pth + '.pth'\n",
    "        print(\"load model: {}\".format(model_file))\n",
    "\n",
    "        model = three_view_net(701, config['droprate'], stride = config['stride'], pool = config['pool'], share_weight = config['share'], norm = config['norm'], adain = config['adain'], btnk=config['btnk'], conv_norm=config['conv_norm'], VGG16=config['use_vgg'], Dense=config['use_dense'])\n",
    "\n",
    "        #network_dict = model.state_dict()\n",
    "        #trained_dict = torch.load(os.path.join(self.model_dir, model_file))\n",
    "        #print('different keys---------------:', (network_dict.keys()^trained_dict.keys()))   \n",
    "        #[print(param_tensor, \"\\t\", model.state_dict()[param_tensor].size()) for param_tensor in network_dict]\n",
    "        #[print(param_tensor, \"\\t\", model.state_dict()[param_tensor].size()) for param_tensor in trained_dict]\n",
    "\n",
    "        model.load_state_dict(torch.load(os.path.join(self.model_dir, model_file))) \n",
    "\n",
    "        if config['LPN']:\n",
    "            for i in range(config['block']):\n",
    "                cls_name = 'classifier'+str(i)\n",
    "                c = getattr(model, cls_name)\n",
    "                c.classifier = nn.Sequential()\n",
    "        else:\n",
    "            model.classifier.classifier = nn.Sequential()\n",
    "\n",
    "        model = model.cuda()\n",
    "        model = model.eval()\n",
    "    \n",
    "        with torch.no_grad():\n",
    "            query_feature = extract_feature(model,dataloaders[query_name], view=query, ms=multiple_scale, LPN=config['LPN'], block=config['block'])\n",
    "            gallery_feature = extract_feature(model,dataloaders[gallery_name], view=gallery, ms=multiple_scale, LPN=config['LPN'], block=config['block'])\n",
    "\n",
    "        # calculate \n",
    "        m = metrics(query_feature, query_label, gallery_feature, gallery_label)\n",
    "        print(\"Recall@1: {:.2f}\".format(m[0]))\n",
    "        print(\"Recall@5: {:.2f}\".format(m[1]))\n",
    "        print(\"Recall@10: {:.2f}\".format(m[2]))\n",
    "        print(\"Recall@top1: {:.2f}\".format(m[3]))\n",
    "        print(\"Recall@AP: {:.2f}\".format(m[4]))\n",
    "        # return m\n"
   ]
  },
  {
   "cell_type": "code",
   "execution_count": 4,
   "metadata": {},
   "outputs": [
    {
     "name": "stdout",
     "output_type": "stream",
     "text": [
      "load model: net_209.pth\n",
      "load ibn params:-----------------\n"
     ]
    },
    {
     "name": "stderr",
     "output_type": "stream",
     "text": [
      "c:\\Users\\lyq\\.conda\\envs\\pytorch\\lib\\site-packages\\torchvision\\models\\_utils.py:208: UserWarning: The parameter 'pretrained' is deprecated since 0.13 and will be removed in 0.15, please use 'weights' instead.\n",
      "  warnings.warn(\n",
      "c:\\Users\\lyq\\.conda\\envs\\pytorch\\lib\\site-packages\\torchvision\\models\\_utils.py:223: UserWarning: Arguments other than a weight enum or `None` for 'weights' are deprecated since 0.13 and will be removed in 0.15. The current behavior is equivalent to passing `weights=ResNet50_Weights.IMAGENET1K_V1`. You can also use `weights=ResNet50_Weights.DEFAULT` to get the most up-to-date weights.\n",
      "  warnings.warn(msg)\n",
      "Extract drone feature: 100%|██████████| 296/296 [41:02<00:00,  8.32s/it]\n",
      "Extract satellite feature: 100%|██████████| 8/8 [00:33<00:00,  4.13s/it]\n",
      "Evaluate metrics: 100%|██████████| 37855/37855 [00:12<00:00, 2955.11it/s]"
     ]
    },
    {
     "name": "stdout",
     "output_type": "stream",
     "text": [
      "Recall@1: 61.36\n",
      "Recall@5: 79.94\n",
      "Recall@10: 85.83\n",
      "Recall@top1: 86.52\n",
      "Recall@AP: 65.64\n"
     ]
    },
    {
     "name": "stderr",
     "output_type": "stream",
     "text": [
      "\n"
     ]
    }
   ],
   "source": [
    "a = MuseNet_()\n",
    "\n",
    "a.test(style='mixed')"
   ]
  },
  {
   "cell_type": "code",
   "execution_count": 6,
   "metadata": {},
   "outputs": [
    {
     "name": "stdout",
     "output_type": "stream",
     "text": [
      "normal\n",
      "load model: net_209.pth\n",
      "load ibn params:-----------------\n"
     ]
    },
    {
     "name": "stderr",
     "output_type": "stream",
     "text": [
      "Extract drone feature: 100%|██████████| 296/296 [10:48<00:00,  2.19s/it]\n",
      "Extract satellite feature: 100%|██████████| 8/8 [00:31<00:00,  3.90s/it]\n",
      "Evaluate metrics: 100%|██████████| 37855/37855 [00:12<00:00, 3046.37it/s]\n"
     ]
    },
    {
     "name": "stdout",
     "output_type": "stream",
     "text": [
      "Recall@1: 73.24\n",
      "Recall@5: 88.82\n",
      "Recall@10: 92.57\n",
      "Recall@top1: 93.00\n",
      "Recall@AP: 76.73\n",
      "dark\n",
      "load model: net_209.pth\n",
      "load ibn params:-----------------\n"
     ]
    },
    {
     "name": "stderr",
     "output_type": "stream",
     "text": [
      "Extract drone feature: 100%|██████████| 296/296 [11:55<00:00,  2.42s/it]\n",
      "Extract satellite feature: 100%|██████████| 8/8 [00:36<00:00,  4.52s/it]\n",
      "Evaluate metrics: 100%|██████████| 37855/37855 [00:12<00:00, 2999.47it/s]\n"
     ]
    },
    {
     "name": "stdout",
     "output_type": "stream",
     "text": [
      "Recall@1: 68.96\n",
      "Recall@5: 86.08\n",
      "Recall@10: 90.63\n",
      "Recall@top1: 91.15\n",
      "Recall@AP: 72.81\n",
      "fog\n",
      "load model: net_209.pth\n",
      "load ibn params:-----------------\n"
     ]
    },
    {
     "name": "stderr",
     "output_type": "stream",
     "text": [
      "Extract drone feature: 100%|██████████| 296/296 [21:08<00:00,  4.28s/it]\n",
      "Extract satellite feature: 100%|██████████| 8/8 [00:30<00:00,  3.86s/it]\n",
      "Evaluate metrics: 100%|██████████| 37855/37855 [00:12<00:00, 3045.23it/s]\n"
     ]
    },
    {
     "name": "stdout",
     "output_type": "stream",
     "text": [
      "Recall@1: 67.07\n",
      "Recall@5: 84.82\n",
      "Recall@10: 89.80\n",
      "Recall@top1: 90.40\n",
      "Recall@AP: 71.10\n",
      "rain\n",
      "load model: net_209.pth\n",
      "load ibn params:-----------------\n"
     ]
    },
    {
     "name": "stderr",
     "output_type": "stream",
     "text": [
      "Extract drone feature: 100%|██████████| 296/296 [1:30:15<00:00, 18.30s/it]\n",
      "Extract satellite feature: 100%|██████████| 8/8 [00:35<00:00,  4.39s/it]\n",
      "Evaluate metrics: 100%|██████████| 37855/37855 [00:12<00:00, 3001.11it/s]\n"
     ]
    },
    {
     "name": "stdout",
     "output_type": "stream",
     "text": [
      "Recall@1: 62.05\n",
      "Recall@5: 80.59\n",
      "Recall@10: 86.12\n",
      "Recall@top1: 86.78\n",
      "Recall@AP: 66.29\n",
      "snow\n",
      "load model: net_209.pth\n",
      "load ibn params:-----------------\n"
     ]
    },
    {
     "name": "stderr",
     "output_type": "stream",
     "text": [
      "Extract drone feature: 100%|██████████| 296/296 [49:33<00:00, 10.05s/it]\n",
      "Extract satellite feature: 100%|██████████| 8/8 [00:30<00:00,  3.84s/it]\n",
      "Evaluate metrics: 100%|██████████| 37855/37855 [00:13<00:00, 2891.90it/s]\n"
     ]
    },
    {
     "name": "stdout",
     "output_type": "stream",
     "text": [
      "Recall@1: 57.98\n",
      "Recall@5: 77.58\n",
      "Recall@10: 83.88\n",
      "Recall@top1: 84.58\n",
      "Recall@AP: 62.49\n",
      "fog_rain\n",
      "load model: net_209.pth\n",
      "load ibn params:-----------------\n"
     ]
    },
    {
     "name": "stderr",
     "output_type": "stream",
     "text": [
      "Extract drone feature: 100%|██████████| 296/296 [48:30<00:00,  9.83s/it]\n",
      "Extract satellite feature: 100%|██████████| 8/8 [00:31<00:00,  3.88s/it]\n",
      "Evaluate metrics: 100%|██████████| 37855/37855 [00:13<00:00, 2885.93it/s]\n"
     ]
    },
    {
     "name": "stdout",
     "output_type": "stream",
     "text": [
      "Recall@1: 58.87\n",
      "Recall@5: 78.52\n",
      "Recall@10: 84.54\n",
      "Recall@top1: 85.33\n",
      "Recall@AP: 63.38\n",
      "fog_snow\n",
      "load model: net_209.pth\n",
      "load ibn params:-----------------\n"
     ]
    },
    {
     "name": "stderr",
     "output_type": "stream",
     "text": [
      "Extract drone feature: 100%|██████████| 296/296 [32:44<00:00,  6.64s/it]\n",
      "Extract satellite feature: 100%|██████████| 8/8 [00:30<00:00,  3.86s/it]\n",
      "Evaluate metrics: 100%|██████████| 37855/37855 [00:12<00:00, 2926.00it/s]\n"
     ]
    },
    {
     "name": "stdout",
     "output_type": "stream",
     "text": [
      "Recall@1: 48.50\n",
      "Recall@5: 69.28\n",
      "Recall@10: 76.67\n",
      "Recall@top1: 77.61\n",
      "Recall@AP: 53.35\n",
      "rain_snow\n",
      "load model: net_209.pth\n",
      "load ibn params:-----------------\n"
     ]
    },
    {
     "name": "stderr",
     "output_type": "stream",
     "text": [
      "Extract drone feature: 100%|██████████| 296/296 [1:13:55<00:00, 14.99s/it]\n",
      "Extract satellite feature: 100%|██████████| 8/8 [00:30<00:00,  3.85s/it]\n",
      "Evaluate metrics: 100%|██████████| 37855/37855 [00:12<00:00, 2918.95it/s]\n"
     ]
    },
    {
     "name": "stdout",
     "output_type": "stream",
     "text": [
      "Recall@1: 59.56\n",
      "Recall@5: 78.81\n",
      "Recall@10: 84.64\n",
      "Recall@top1: 85.38\n",
      "Recall@AP: 63.97\n",
      "light\n",
      "load model: net_209.pth\n",
      "load ibn params:-----------------\n"
     ]
    },
    {
     "name": "stderr",
     "output_type": "stream",
     "text": [
      "Extract drone feature: 100%|██████████| 296/296 [11:35<00:00,  2.35s/it]\n",
      "Extract satellite feature: 100%|██████████| 8/8 [00:31<00:00,  3.89s/it]\n",
      "Evaluate metrics: 100%|██████████| 37855/37855 [00:14<00:00, 2529.69it/s]\n"
     ]
    },
    {
     "name": "stdout",
     "output_type": "stream",
     "text": [
      "Recall@1: 57.17\n",
      "Recall@5: 77.40\n",
      "Recall@10: 84.07\n",
      "Recall@top1: 84.82\n",
      "Recall@AP: 61.83\n",
      "wind\n",
      "load model: net_209.pth\n",
      "load ibn params:-----------------\n"
     ]
    },
    {
     "name": "stderr",
     "output_type": "stream",
     "text": [
      "Extract drone feature: 100%|██████████| 296/296 [15:07<00:00,  3.07s/it]\n",
      "Extract satellite feature: 100%|██████████| 8/8 [00:30<00:00,  3.82s/it]\n",
      "Evaluate metrics: 100%|██████████| 37855/37855 [00:13<00:00, 2862.33it/s]\n"
     ]
    },
    {
     "name": "stdout",
     "output_type": "stream",
     "text": [
      "Recall@1: 57.63\n",
      "Recall@5: 77.74\n",
      "Recall@10: 84.40\n",
      "Recall@top1: 85.26\n",
      "Recall@AP: 62.25\n"
     ]
    }
   ],
   "source": [
    "from utils.loader import environments \n",
    "\n",
    "for style in environments:\n",
    "    print(style)\n",
    "    a.test(style=style)"
   ]
  }
 ],
 "metadata": {
  "kernelspec": {
   "display_name": "pytorch",
   "language": "python",
   "name": "python3"
  },
  "language_info": {
   "codemirror_mode": {
    "name": "ipython",
    "version": 3
   },
   "file_extension": ".py",
   "mimetype": "text/x-python",
   "name": "python",
   "nbconvert_exporter": "python",
   "pygments_lexer": "ipython3",
   "version": "3.8.18"
  }
 },
 "nbformat": 4,
 "nbformat_minor": 2
}
