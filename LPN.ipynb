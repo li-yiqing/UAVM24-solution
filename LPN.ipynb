{
 "cells": [
  {
   "cell_type": "markdown",
   "metadata": {},
   "source": [
    "# LPN\n",
    "\n",
    "This notebook provides simplified [LPN](https://github.com/wtyhub/LPN)'s code for study and research purpose."
   ]
  },
  {
   "cell_type": "code",
   "execution_count": 2,
   "metadata": {},
   "outputs": [
    {
     "name": "stderr",
     "output_type": "stream",
     "text": [
      "c:\\Users\\lyq\\.conda\\envs\\pytorch\\lib\\site-packages\\tqdm\\auto.py:21: TqdmWarning: IProgress not found. Please update jupyter and ipywidgets. See https://ipywidgets.readthedocs.io/en/stable/user_install.html\n",
      "  from .autonotebook import tqdm as notebook_tqdm\n"
     ]
    }
   ],
   "source": [
    "from __future__ import print_function, division\n",
    "\n",
    "import os\n",
    "import math\n",
    "from shutil import copyfile\n",
    "\n",
    "import torch\n",
    "import torch.nn as nn\n",
    "import torch.optim as optim\n",
    "from torch.optim import lr_scheduler\n",
    "from torch.autograd import Variable\n",
    "from torchvision import datasets, transforms\n",
    "import torch.backends.cudnn as cudnn\n",
    "from torchvision.transforms import InterpolationMode\n",
    "\n",
    "os.environ['TORCH_HOME']='./'"
   ]
  },
  {
   "cell_type": "markdown",
   "metadata": {},
   "source": [
    "## CONVERT IMAGE TO TENSOR"
   ]
  },
  {
   "cell_type": "code",
   "execution_count": 3,
   "metadata": {},
   "outputs": [],
   "source": [
    "from LPN.folder import ImageFolder\n",
    "from LPN.image_folder import customData\n",
    "\n",
    "def init_dataset_train(name='University-Release', w=384, h=384, pad=10, batchsize=8):\n",
    "\n",
    "    data_transforms = {\n",
    "        'train': transforms.Compose(\n",
    "            [\n",
    "                transforms.Resize((h, w), interpolation=InterpolationMode.BICUBIC), \n",
    "                transforms.Pad( pad, padding_mode='edge'),\n",
    "                transforms.RandomCrop((h, w)),\n",
    "                transforms.RandomHorizontalFlip(),\n",
    "                transforms.ToTensor(),\n",
    "                transforms.Normalize([0.485, 0.456, 0.406], [0.229, 0.224, 0.225])\n",
    "            ]\n",
    "        ),\n",
    "        'val': transforms.Compose(\n",
    "            [\n",
    "                transforms.Resize(size=(h, w),interpolation=InterpolationMode.BICUBIC), \n",
    "                transforms.ToTensor(),\n",
    "                transforms.Normalize([0.485, 0.456, 0.406], [0.229, 0.224, 0.225])\n",
    "            ]\n",
    "        ),\n",
    "        'satellite': transforms.Compose(\n",
    "            [\n",
    "                transforms.Resize((h, w), interpolation=InterpolationMode.BICUBIC),\n",
    "                transforms.Pad( pad, padding_mode='edge'),\n",
    "                transforms.RandomAffine(90),\n",
    "                transforms.RandomCrop((h, w)),\n",
    "                transforms.RandomHorizontalFlip(),\n",
    "                transforms.ToTensor(),\n",
    "                transforms.Normalize([0.485, 0.456, 0.406], [0.229, 0.224, 0.225])\n",
    "            ]\n",
    "        ) \n",
    "    }   \n",
    "\n",
    "    image_datasets = {\n",
    "        'satellite': datasets.ImageFolder(os.path.join(os.getcwd(), name, 'train', 'satellite'), data_transforms['satellite']),\n",
    "        'street': datasets.ImageFolder(os.path.join(os.getcwd(), name, 'train', 'street'), data_transforms['train']),\n",
    "        'drone': datasets.ImageFolder(os.path.join(os.getcwd(), name, 'train', 'drone'), data_transforms['train']),\n",
    "        'google': ImageFolder(os.path.join(os.getcwd(), name, 'train', 'google'), data_transforms['train'])\n",
    "    }\n",
    "\n",
    "    dataloaders = {x: torch.utils.data.DataLoader(image_datasets[x], batch_size=batchsize, shuffle=True, num_workers=4, pin_memory=False) for x in image_datasets}\n",
    "    dataset_sizes = {x: len(image_datasets[x]) for x in image_datasets}\n",
    "    return image_datasets, dataloaders, dataset_sizes\n",
    "\n",
    "def init_dataset_test(name='University-Release', w=384, h=384, batchsize=128):\n",
    "    query_list = ['query_satellite', 'query_drone', 'query_street']\n",
    "    gallery_list = ['gallery_satellite','gallery_drone', 'gallery_street']\n",
    "\n",
    "    data_transforms = transforms.Compose([\n",
    "        transforms.Resize((h, w), interpolation=InterpolationMode.BICUBIC),\n",
    "        transforms.ToTensor(),\n",
    "        transforms.Normalize([0.485, 0.456, 0.406], [0.229, 0.224, 0.225])\n",
    "    ])\n",
    "\n",
    "    image_datasets = {x: datasets.ImageFolder( os.path.join(name, 'test', x) ,data_transforms) for x in (query_list+gallery_list)}\n",
    "    \"\"\"\n",
    "    for x in query_list:\n",
    "        image_datasets[x] = customData( os.path.join(name,x) ,data_transforms, rotate=0)\n",
    "     \"\"\"\n",
    "    dataloaders = {x: torch.utils.data.DataLoader(image_datasets[x], batch_size=batchsize, shuffle=False, num_workers=16) for x in (query_list+gallery_list)}\n",
    "\n",
    "    dataset_sizes = {x: len(image_datasets[x]) for x in image_datasets}\n",
    "    return image_datasets, dataloaders, dataset_sizes\n",
    "\n",
    "    \n",
    "\n",
    "\n"
   ]
  },
  {
   "cell_type": "markdown",
   "metadata": {},
   "source": [
    "## Backbone (Resnet+LPN)"
   ]
  },
  {
   "cell_type": "code",
   "execution_count": 4,
   "metadata": {},
   "outputs": [],
   "source": [
    "from torchvision import models\n",
    "from torch.nn import functional as F\n",
    "\n",
    "class ft_net_LPN(nn.Module):\n",
    "\n",
    "    def __init__(self, class_num, droprate=0.5, stride=2, init_model=None, pool='avg', block=6):\n",
    "        super(ft_net_LPN, self).__init__()\n",
    "        model_ft = models.resnet50(weights=models.ResNet50_Weights.DEFAULT)\n",
    "        # avg pooling to global pooling\n",
    "        if stride == 1:\n",
    "            model_ft.layer4[0].downsample[0].stride = (1,1)\n",
    "            model_ft.layer4[0].conv2.stride = (1,1)\n",
    "\n",
    "        self.pool = pool\n",
    "        self.model = model_ft\n",
    "        self.block = block\n",
    "        if init_model!=None:\n",
    "            self.model = init_model.model\n",
    "            self.pool = init_model.pool\n",
    "            #self.classifier.add_block = init_model.classifier.add_block\n",
    "\n",
    "    def forward(self, x):\n",
    "        x = self.model.conv1(x)\n",
    "        x = self.model.bn1(x)\n",
    "        x = self.model.relu(x)\n",
    "        x = self.model.maxpool(x)\n",
    "        x = self.model.layer1(x)\n",
    "        x = self.model.layer2(x)\n",
    "        x = self.model.layer3(x)\n",
    "        x = self.model.layer4(x)\n",
    "        # print(x.shape)\n",
    "        if self.pool == 'avg+max':\n",
    "            x1 = self.get_part_pool(x, pool='avg')\n",
    "            x2 = self.get_part_pool(x, pool='max')\n",
    "            x = torch.cat((x1,x2), dim = 1)\n",
    "            x = x.view(x.size(0), x.size(1), -1)\n",
    "        elif self.pool == 'avg':\n",
    "            x = self.get_part_pool(x)\n",
    "            x = x.view(x.size(0), x.size(1), -1)\n",
    "        elif self.pool == 'max':\n",
    "            x = self.get_part_pool(x, pool='max')\n",
    "            x = x.view(x.size(0), x.size(1), -1)\n",
    "        #x = self.classifier(x)\n",
    "        return x\n",
    "\n",
    "    def get_part_pool(self, x, pool='avg', no_overlap=True):\n",
    "        result = []\n",
    "        if pool == 'avg':\n",
    "            pooling = torch.nn.AdaptiveAvgPool2d((1,1))\n",
    "        elif pool == 'max':\n",
    "            pooling = torch.nn.AdaptiveMaxPool2d((1,1)) \n",
    "        H, W = x.size(2), x.size(3)\n",
    "        c_h, c_w = int(H/2), int(W/2)\n",
    "        per_h, per_w = H/(2*self.block),W/(2*self.block)\n",
    "        if per_h < 1 and per_w < 1:\n",
    "            new_H, new_W = H+(self.block-c_h)*2, W+(self.block-c_w)*2\n",
    "            x = nn.functional.interpolate(x, size=[new_H,new_W], mode='bilinear', align_corners=True)\n",
    "            H, W = x.size(2), x.size(3)\n",
    "            c_h, c_w = int(H/2), int(W/2)\n",
    "            per_h, per_w = H/(2*self.block),W/(2*self.block)\n",
    "        per_h, per_w = math.floor(per_h), math.floor(per_w)\n",
    "        for i in range(self.block):\n",
    "            i = i + 1\n",
    "            if i < self.block:\n",
    "                x_curr = x[:,:,(c_h-i*per_h):(c_h+i*per_h),(c_w-i*per_w):(c_w+i*per_w)]\n",
    "                if no_overlap and i > 1:\n",
    "                    x_pre = x[:,:,(c_h-(i-1)*per_h):(c_h+(i-1)*per_h),(c_w-(i-1)*per_w):(c_w+(i-1)*per_w)] \n",
    "                    x_pad = F.pad(x_pre,(per_h,per_h,per_w,per_w),\"constant\",0)\n",
    "                    x_curr = x_curr - x_pad\n",
    "                avgpool = pooling(x_curr)\n",
    "                result.append(avgpool)\n",
    "            else:\n",
    "                if no_overlap and i > 1:\n",
    "                    x_pre = x[:,:,(c_h-(i-1)*per_h):(c_h+(i-1)*per_h),(c_w-(i-1)*per_w):(c_w+(i-1)*per_w)]\n",
    "                    pad_h = c_h-(i-1)*per_h\n",
    "                    pad_w = c_w-(i-1)*per_w\n",
    "                    # x_pad = F.pad(x_pre,(pad_h,pad_h,pad_w,pad_w),\"constant\",0)\n",
    "                    if x_pre.size(2)+2*pad_h == H:\n",
    "                        x_pad = F.pad(x_pre,(pad_h,pad_h,pad_w,pad_w),\"constant\",0)\n",
    "                    else:\n",
    "                        ep = H - (x_pre.size(2)+2*pad_h)\n",
    "                        x_pad = F.pad(x_pre,(pad_h+ep,pad_h,pad_w+ep,pad_w),\"constant\",0)\n",
    "                    x = x - x_pad\n",
    "                avgpool = pooling(x)\n",
    "                result.append(avgpool)\n",
    "        return torch.cat(result, dim=2)"
   ]
  },
  {
   "cell_type": "markdown",
   "metadata": {},
   "source": [
    "## Classifier"
   ]
  },
  {
   "cell_type": "code",
   "execution_count": 5,
   "metadata": {},
   "outputs": [],
   "source": [
    "from torch.nn import init\n",
    "def weights_init_kaiming(m):\n",
    "    classname = m.__class__.__name__\n",
    "    # print(classname)\n",
    "    if classname.find('Conv') != -1:\n",
    "        init.kaiming_normal_(m.weight.data, a=0, mode='fan_in') # For old pytorch, you may use kaiming_normal.\n",
    "    elif classname.find('Linear') != -1:\n",
    "        init.kaiming_normal_(m.weight.data, a=0, mode='fan_out')\n",
    "        init.constant_(m.bias.data, 0.0)\n",
    "    elif classname.find('BatchNorm1d') != -1:\n",
    "        init.normal_(m.weight.data, 1.0, 0.02)\n",
    "        init.constant_(m.bias.data, 0.0)\n",
    "\n",
    "def weights_init_classifier(m):\n",
    "    classname = m.__class__.__name__\n",
    "    if classname.find('Linear') != -1:\n",
    "        init.normal_(m.weight.data, std=0.001)\n",
    "        init.constant_(m.bias.data, 0.0)\n",
    "\n",
    "# Defines the new fc layer and classification layer\n",
    "# |--Linear--|--bn--|--relu--|--Linear--|\n",
    "class ClassBlock(nn.Module):\n",
    "    def __init__(self, input_dim, class_num, droprate, relu=False, bnorm=True, num_bottleneck=512, linear=True, return_f = False):\n",
    "        super(ClassBlock, self).__init__()\n",
    "        self.return_f = return_f\n",
    "        add_block = []\n",
    "        if linear:\n",
    "            add_block += [nn.Linear(input_dim, num_bottleneck)]\n",
    "        else:\n",
    "            num_bottleneck = input_dim\n",
    "        if bnorm:\n",
    "            add_block += [nn.BatchNorm1d(num_bottleneck)]\n",
    "        if relu:\n",
    "            add_block += [nn.LeakyReLU(0.1)]\n",
    "        if droprate>0:\n",
    "            add_block += [nn.Dropout(p=droprate)]\n",
    "        add_block = nn.Sequential(*add_block)\n",
    "        add_block.apply(weights_init_kaiming)\n",
    "\n",
    "        classifier = []\n",
    "        classifier += [nn.Linear(num_bottleneck, class_num)]\n",
    "        classifier = nn.Sequential(*classifier)\n",
    "        classifier.apply(weights_init_classifier)\n",
    "\n",
    "        self.add_block = add_block\n",
    "        self.classifier = classifier\n",
    "    def forward(self, x):\n",
    "        x = self.add_block(x)\n",
    "        if self.return_f:\n",
    "            f = x\n",
    "            x = self.classifier(x)\n",
    "            return x,f\n",
    "        else:\n",
    "            x = self.classifier(x)\n",
    "            return x"
   ]
  },
  {
   "cell_type": "markdown",
   "metadata": {},
   "source": [
    "## Cross-View Model (Backbone + Classifier)"
   ]
  },
  {
   "cell_type": "code",
   "execution_count": 6,
   "metadata": {},
   "outputs": [],
   "source": [
    "class three_view_net(nn.Module):\n",
    "    def __init__(self, class_num, droprate, stride = 2, pool = 'avg', share_weight = True, block=6):\n",
    "        super(three_view_net, self).__init__()\n",
    "        self.block = block\n",
    "\n",
    "        self.model_1 =  ft_net_LPN(class_num, stride = stride, pool = pool, block = block)\n",
    "        self.model_2 =  ft_net_LPN(class_num, stride = stride, pool = pool, block = block)\n",
    "\n",
    "        if share_weight:\n",
    "            self.model_3 = self.model_1\n",
    "        else:    \n",
    "            self.model_3 =  ft_net_LPN(class_num, stride = stride, pool = pool, block = block)\n",
    "           \n",
    "        if pool == 'avg+max':\n",
    "            for i in range(self.block):\n",
    "                name = 'classifier'+str(i)\n",
    "                setattr(self, name, ClassBlock(4096, class_num, droprate))\n",
    "        else:\n",
    "            for i in range(self.block):\n",
    "                name = 'classifier'+str(i)\n",
    "                setattr(self, name, ClassBlock(2048, class_num, droprate))\n",
    "\n",
    "    def forward(self, x1, x2, x3, x4 = None): # x4 is extra data\n",
    "        if x1 is None:\n",
    "            y1 = None\n",
    "        else:\n",
    "            x1 = self.model_1(x1)\n",
    "            y1 = self.part_classifier(x1)\n",
    "\n",
    "        if x2 is None:\n",
    "            y2 = None\n",
    "        else:\n",
    "            x2 = self.model_2(x2)\n",
    "            y2 = self.part_classifier(x2)\n",
    "\n",
    "        if x3 is None:\n",
    "            y3 = None\n",
    "        else:\n",
    "            x3 = self.model_3(x3)\n",
    "            y3 = self.part_classifier(x3)\n",
    "\n",
    "        if x4 is None:\n",
    "            return y1, y2, y3\n",
    "        else:\n",
    "            x4 = self.model_2(x4)\n",
    "            y4 = self.part_classifier(x4)\n",
    "            return y1, y2, y3, y4\n",
    "\n",
    "    def part_classifier(self, x):\n",
    "        part = {}\n",
    "        predict = {}\n",
    "        for i in range(self.block):\n",
    "            part[i] = x[:,:,i].view(x.size(0),-1)\n",
    "            # part[i] = torch.squeeze(x[:,:,i])\n",
    "            name = 'classifier'+str(i)\n",
    "            c = getattr(self, name)\n",
    "            predict[i] = c(part[i])\n",
    "        y = []\n",
    "        for i in range(self.block):\n",
    "            y.append(predict[i])\n",
    "        if not self.training:\n",
    "            return torch.stack(y, dim=2)\n",
    "        return y"
   ]
  },
  {
   "cell_type": "markdown",
   "metadata": {},
   "source": [
    "## Metrics Calculation"
   ]
  },
  {
   "cell_type": "code",
   "execution_count": 7,
   "metadata": {},
   "outputs": [],
   "source": [
    "import numpy as np\n",
    "from tqdm import tqdm\n",
    "\n",
    "def evaluate_(qf,ql,gf,gl):\n",
    "    query = qf.view(-1,1)\n",
    "    # print(query.shape)\n",
    "    score = torch.mm(gf,query)\n",
    "    score = score.squeeze(1).cpu()\n",
    "    score = score.numpy()\n",
    "    # predict index\n",
    "    index = np.argsort(score)  #from small to large\n",
    "    index = index[::-1]\n",
    "    # index = index[0:2000]\n",
    "    # good index\n",
    "    query_index = np.argwhere(gl==ql)\n",
    "    good_index = query_index\n",
    "    #print(good_index)\n",
    "    #print(index[0:10])\n",
    "    junk_index = np.argwhere(gl==-1)\n",
    "    \n",
    "    CMC_tmp = compute_mAP(index, good_index, junk_index)\n",
    "    return CMC_tmp\n",
    "\n",
    "\n",
    "def compute_mAP(index, good_index, junk_index):\n",
    "    ap = 0\n",
    "    cmc = torch.IntTensor(len(index)).zero_()\n",
    "    if good_index.size==0:   # if empty\n",
    "        cmc[0] = -1\n",
    "        return ap,cmc\n",
    "\n",
    "    # remove junk_index\n",
    "    mask = np.in1d(index, junk_index, invert=True)\n",
    "    index = index[mask]\n",
    "\n",
    "    # find good_index index\n",
    "    ngood = len(good_index)\n",
    "    mask = np.in1d(index, good_index)\n",
    "    rows_good = np.argwhere(mask==True)\n",
    "    rows_good = rows_good.flatten()\n",
    "    \n",
    "    cmc[rows_good[0]:] = 1\n",
    "    for i in range(ngood):\n",
    "        d_recall = 1.0/ngood\n",
    "        precision = (i+1)*1.0/(rows_good[i]+1)\n",
    "        if rows_good[i]!=0:\n",
    "            old_precision = i*1.0/rows_good[i]\n",
    "        else:\n",
    "            old_precision=1.0\n",
    "        ap = ap + d_recall*(old_precision + precision)/2\n",
    "\n",
    "    return ap, cmc"
   ]
  },
  {
   "cell_type": "markdown",
   "metadata": {},
   "source": [
    "## Training, Testing, Evaluating in one class\n",
    "\n",
    "Dataset `University-Release` is expected in current dict. \n",
    "\n",
    "Testing can choose certain amount cases, more friend to quick idea verification."
   ]
  },
  {
   "cell_type": "code",
   "execution_count": 8,
   "metadata": {},
   "outputs": [],
   "source": [
    "from tqdm import tqdm\n",
    "from tqdm.contrib import tzip\n",
    "from torch.utils.data import Subset, DataLoader\n",
    "\n",
    "def fliplr(img):\n",
    "    '''flip horizontal'''\n",
    "    inv_idx = torch.arange(img.size(3)-1,-1,-1).long()  # N x C x H x W\n",
    "    img_flip = img.index_select(3,inv_idx)\n",
    "    return img_flip\n",
    "\n",
    "def get_id(img_path):\n",
    "    camera_id = []\n",
    "    labels = []\n",
    "    for path, v in img_path:\n",
    "        folder_name = os.path.basename(os.path.dirname(path))\n",
    "        labels.append(int(folder_name))\n",
    "    return labels\n",
    "\n",
    "\n",
    "class Model:\n",
    "    def __init__(self, \n",
    "                name='LPN',\n",
    "                lr=0.001,\n",
    "                num_epochs=40,\n",
    "                batchsize=8,\n",
    "                warm_epoch=0,\n",
    "                extra_Google=False,\n",
    "                block=6,\n",
    "                checkpoint_interval=20,\n",
    "                model_test=None, \n",
    "                 ):\n",
    "        self.pardir = 'model'\n",
    "        self.pytorch_version =  torch.__version__\n",
    "\n",
    "        self.name = name # model will be save in './[pardir]/[name]'\n",
    "        self.lr = lr \n",
    "        self.num_epochs = num_epochs \n",
    "        self.batchsize = batchsize\n",
    "        self.warm_epoch = warm_epoch\n",
    "        self.extra_Google = extra_Google\n",
    "        self.block = block\n",
    "        self.checkpoint_interval = checkpoint_interval\n",
    "        self.model_test = None\n",
    "\n",
    "    def one_LPN_output(self, outputs, labels, criterion):\n",
    "        sm = nn.Softmax(dim=1)\n",
    "        num_part = self.block\n",
    "        score = 0\n",
    "        loss = 0\n",
    "        for i in range(num_part):\n",
    "            part = outputs[i]\n",
    "            score += sm(part)\n",
    "            loss += criterion(part, labels)\n",
    "\n",
    "        _, preds = torch.max(score.data, 1)\n",
    "\n",
    "        return preds, loss \n",
    "    \n",
    "    def extract_feature(self, model, dataloaders, ms=[1], view = 'satellite'):\n",
    "        features = torch.FloatTensor()\n",
    "        for data in tqdm(dataloaders, desc='Extract {} feature'.format(view)):\n",
    "            img, label = data\n",
    "            n, c, h, w = img.size()\n",
    "            #ff = torch.FloatTensor(n,512).zero_().cuda()\n",
    "            ff = torch.FloatTensor(n,512,self.block).zero_().cuda()\n",
    "            for i in range(2):\n",
    "                if(i==1):\n",
    "                    img = fliplr(img)\n",
    "                input_img = Variable(img.cuda())\n",
    "                for scale in ms:\n",
    "                    if scale != 1:\n",
    "                        input_img = nn.functional.interpolate(input_img, scale_factor=scale.item(), mode='bilinear', align_corners=False)\n",
    "                    if view == 'satellite':\n",
    "                        outputs, _, _ = model(input_img, None, None)\n",
    "                    elif view == 'street':\n",
    "                        _, outputs, _ = model(None, input_img, None)\n",
    "                    elif view == 'drone':\n",
    "                        _, _, outputs = model(None, None, input_img)\n",
    "                    ff += outputs\n",
    "            # norm feature\n",
    "            fnorm = torch.norm(ff, p=2, dim=1, keepdim=True) * (self.block**0.5) \n",
    "            ff = ff.div(fnorm.expand_as(ff))\n",
    "            ff = ff.view(ff.size(0), -1)\n",
    "\n",
    "            features = torch.cat((features,ff.data.cpu()), 0)\n",
    "        return features\n",
    "    \n",
    "    def test(self, query='drone', gallery='satellite', class_nums = 701, multiple_scale=[1], write_query=False, dataset='University-Release', test_num='all', pth=None):\n",
    "        # load Dataset\n",
    "        image_datasets, dataloaders, dataset_sizes = init_dataset_test(name=dataset) \n",
    "\n",
    "        gallery_name = 'gallery_' + gallery\n",
    "        query_name = 'query_' + query \n",
    "\n",
    "        if test_num!='all':\n",
    "            indices = list(range(test_num))\n",
    "            query_dataset = Subset(image_datasets[query_name], indices)\n",
    "            query_dataloader = DataLoader(query_dataset, batch_size=self.batchsize, shuffle=False, num_workers=16)\n",
    "            query_path = [image_datasets[query_name].imgs[i] for i in indices]\n",
    "\n",
    "        else:\n",
    "            query_dataset = image_datasets[query_name]\n",
    "            query_dataloader = dataloaders[query_name]\n",
    "            query_path = query_dataset.imgs\n",
    "\n",
    "        gallery_dataset = image_datasets[gallery_name]\n",
    "        gallery_dataloader = dataloaders[gallery_name]\n",
    "        gallery_path = gallery_dataset.imgs \n",
    "\n",
    "        gallery_label = get_id(gallery_path)\n",
    "        query_label = get_id(query_path)\n",
    "\n",
    "        if write_query:\n",
    "            f = open('gallery_name.txt','w')\n",
    "            for p in gallery_path:\n",
    "                f.write(p[0]+'\\n')\n",
    "            f = open('query_name.txt','w')\n",
    "            for p in query_path:\n",
    "                f.write(p[0]+'\\n')\n",
    "            print('done writing')\n",
    "\n",
    "        # load model\n",
    "        files = os.listdir(os.path.join(os.getcwd(), self.pardir, self.name))\n",
    "        if pth==None:\n",
    "            model_file = files[-1]\n",
    "        else:\n",
    "            model_file = pth + '.pth'\n",
    "        print(\"load model: {}\".format(model_file))\n",
    "        save_path = os.path.join(self.pardir, self.name, model_file)\n",
    "\n",
    "        model = three_view_net(class_nums, droprate=0.5, pool='avg', stride=1, block=self.block)\n",
    "        model.load_state_dict(torch.load(save_path))\n",
    "        model = model.cuda()\n",
    "        model.train(False)\n",
    "\n",
    "        # Create optimizer\n",
    "        for i in range(self.block):\n",
    "            cls_name = 'classifier'+str(i)\n",
    "            c = getattr(model, cls_name)\n",
    "            c.classifier = nn.Sequential() \n",
    "\n",
    "        # Extract features\n",
    "        with torch.no_grad():\n",
    "            query_feature = self.extract_feature(model,query_dataloader, view=query, ms=multiple_scale)\n",
    "            gallery_feature = self.extract_feature(model,gallery_dataloader, view=gallery, ms=multiple_scale)\n",
    "\n",
    "        self.query_feature = query_feature\n",
    "        self.gallery_feature = gallery_feature \n",
    "        self.query_label = query_label\n",
    "        self.gallery_label = gallery_label\n",
    "\n",
    "    def metrics(self):\n",
    "        qf = self.query_feature\n",
    "        ql = self.query_label\n",
    "        gf = self.gallery_feature\n",
    "        gl = self.gallery_label\n",
    "        CMC = torch.IntTensor(len(gl)).zero_()\n",
    "        ap = 0.0\n",
    "        #print(query_label)\n",
    "        qf = qf.cuda()\n",
    "        gf = gf.cuda()\n",
    "        gl = np.array(gl)\n",
    "        ql = np.array(ql)\n",
    "\n",
    "        for i in tqdm(range(len(ql)), desc='Evaluate metrics'):\n",
    "            ap_tmp, CMC_tmp = evaluate_(qf[i],ql[i],gf,gl)\n",
    "            if CMC_tmp[0]==-1:\n",
    "                continue\n",
    "            CMC = CMC + CMC_tmp\n",
    "            ap += ap_tmp\n",
    "            #print(i, CMC_tmp[0])\n",
    "\n",
    "        CMC = CMC.float()\n",
    "        CMC = CMC/len(ql) #average CMC\n",
    "        #print(round(len(gl)*0.01))\n",
    "        print('Recall@1: %.2f \\nRecall@5: %.2f \\nRecall@10: %.2f \\nRecall@top1: %.2f \\nAP: %.2f'%(CMC[0]*100,CMC[4]*100,CMC[9]*100, CMC[round(len(gl)*0.01)]*100, ap/len(ql)*100))\n",
    "\n",
    "\n",
    "    def train(self, dataset='University-Release'):\n",
    "        # load Dataset\n",
    "        image_datasets, dataloaders, dataset_sizes = init_dataset_train(name=dataset) \n",
    "        class_nums = len(image_datasets['street'].classes)\n",
    "        self.class_nums = class_nums # 701\n",
    "\n",
    "        # Create Model\n",
    "        model = three_view_net(class_nums, droprate=0.5, pool='avg', stride=1, block=self.block)\n",
    "        model = model.cuda()\n",
    "\n",
    "        # Create optimizer\n",
    "        ignored_params =list()\n",
    "        for i in range(self.block):\n",
    "            cls_name = 'classifier'+str(i)\n",
    "            c = getattr(model, cls_name)\n",
    "            ignored_params += list(map(id, c.parameters() ))\n",
    "        base_params = filter(lambda p: id(p) not in ignored_params, model.parameters())\n",
    "        optim_params = [{'params': base_params, 'lr': 0.1*self.lr}]\n",
    "        for i in range(self.block):\n",
    "            cls_name = 'classifier'+str(i)\n",
    "            c = getattr(model, cls_name)\n",
    "            optim_params.append({'params': c.parameters(), 'lr': self.lr})\n",
    "        optimizer_ft = optim.SGD(optim_params, weight_decay=5e-4, momentum=0.9, nesterov=True)\n",
    "        exp_lr_scheduler = lr_scheduler.StepLR(optimizer_ft, step_size=80, gamma=0.1) # Decay LR by a factor of 0.1 every 40 epochs\n",
    "\n",
    "        optimizer = optimizer_ft\n",
    "        scheduler = exp_lr_scheduler\n",
    "        criterion = nn.CrossEntropyLoss()\n",
    "\n",
    "        #since = time.time()\n",
    "        #best_model_wts = model.state_dict()\n",
    "        #best_acc = 0.0\n",
    "        warm_up = 0.1 # We start from the 0.1*lrRate\n",
    "        warm_iteration = round(dataset_sizes['satellite']/self.batchsize) * self.warm_epoch # first 5 epoch\n",
    "\n",
    "        yloss = {\n",
    "            'train': [torch.inf],\n",
    "            'val':[torch.inf]\n",
    "        } \n",
    "\n",
    "        yacc = {\n",
    "            'train': {'satellite': [0], 'street': [0], 'drone': [0]}, \n",
    "            'val': {'satellite': [0], 'street': [0], 'drone': [0]}\n",
    "        }\n",
    "\n",
    "\n",
    "        for epoch in range(1, self.num_epochs+1):  \n",
    "            # Each epoch has a training and validation phase\n",
    "            for phase in ['train']:\n",
    "                if phase == 'train':\n",
    "                    model.train(True)  # Set model to training mode\n",
    "                else:\n",
    "                    model.train(False)  # Set model to evaluate mode\n",
    "\n",
    "                running_loss = 0.0\n",
    "                running_corrects = 0.0\n",
    "                running_corrects2 = 0.0\n",
    "                running_corrects3 = 0.0\n",
    "                # Iterate over data.\n",
    "                prev_loss=yloss['train'][epoch-1]\n",
    "                prev_acc1=yacc['train']['satellite'][epoch-1]\n",
    "                prev_acc2=yacc['train']['street'][epoch-1]\n",
    "                prev_acc3=yacc['train']['drone'][epoch-1]\n",
    "                for data,data2,data3,data4 in tzip(dataloaders['satellite'], dataloaders['street'], dataloaders['drone'], dataloaders['google'], \n",
    "                                                   desc=f'Epoach {epoch}/{self.num_epochs}', \n",
    "                                                   postfix=dict(\n",
    "                                                                Acc_satellite = f'{prev_acc1:.4f}',\n",
    "                                                                Acc_street = f'{prev_acc2:.4f}',\n",
    "                                                                Acc_drone = f'{prev_acc3:.4f}',\n",
    "                                                                Loss = f'{prev_loss:.4f}'\n",
    "                                                                )):                                \n",
    "                    # get the inputs\n",
    "                    inputs, labels = data\n",
    "                    inputs2, labels2 = data2\n",
    "                    inputs3, labels3 = data3\n",
    "                    inputs4, labels4 = data4\n",
    "                    now_batch_size,c,h,w = inputs.shape\n",
    "                    if now_batch_size<self.batchsize: # skip the last batch\n",
    "                        continue\n",
    "                    if torch.cuda.is_available():\n",
    "                        inputs = Variable(inputs.cuda().detach())\n",
    "                        inputs2 = Variable(inputs2.cuda().detach())\n",
    "                        inputs3 = Variable(inputs3.cuda().detach())\n",
    "                        labels = Variable(labels.cuda().detach())\n",
    "                        labels2 = Variable(labels2.cuda().detach())\n",
    "                        labels3 = Variable(labels3.cuda().detach())\n",
    "                        if self.extra_Google:\n",
    "                            inputs4 = Variable(inputs4.cuda().detach())\n",
    "                            labels4 = Variable(labels4.cuda().detach())\n",
    "                    else:\n",
    "                        inputs, labels = Variable(inputs), Variable(labels)\n",
    "    \n",
    "                    # zero the parameter gradients\n",
    "                    optimizer.zero_grad()\n",
    "\n",
    "                    # forward\n",
    "                    if phase == 'val':\n",
    "                        with torch.no_grad():\n",
    "                            outputs, outputs2 = model(inputs, inputs2)\n",
    "                    else:\n",
    "                        if self.extra_Google:\n",
    "                            outputs, outputs2, outputs3, outputs4 = model(inputs, inputs2, inputs3, inputs4)\n",
    "                        else:\n",
    "                            outputs, outputs2, outputs3 = model(inputs, inputs2, inputs3)\n",
    "                    \n",
    "                    \n",
    "                    preds, loss = self.one_LPN_output(outputs, labels, criterion)\n",
    "                    preds2, loss2 = self.one_LPN_output(outputs2, labels2, criterion)\n",
    "\n",
    "                    preds3, loss3 = self.one_LPN_output(outputs3, labels3, criterion)\n",
    "                    loss = loss + loss2 + loss3 \n",
    "                    if self.extra_Google:\n",
    "                        _, loss4 = self.one_LPN_output(outputs4, labels4, criterion)\n",
    "                        loss = loss + loss4\n",
    "\n",
    "                    # backward + optimize only if in training phase\n",
    "                    if epoch<self.warm_epoch and phase == 'train': \n",
    "                        warm_up = min(1.0, warm_up + 0.9 / warm_iteration)\n",
    "                        loss *= warm_up\n",
    "\n",
    "                    if phase == 'train':\n",
    "                        loss.backward()\n",
    "                        optimizer.step()\n",
    "\n",
    "                    # statistics\n",
    "                    if int(self.pytorch_version[0])>0 or int(self.pytorch_version[2]) > 3: # for the new version like 0.4.0, 0.5.0 and 1.0.0\n",
    "                        running_loss += loss.item() * now_batch_size\n",
    "                    else :  # for the old version like 0.3.0 and 0.3.1\n",
    "                        running_loss += loss.data[0] * now_batch_size\n",
    "                    running_corrects += float(torch.sum(preds == labels.data))\n",
    "                    running_corrects2 += float(torch.sum(preds2 == labels2.data))\n",
    "                    running_corrects3 += float(torch.sum(preds3 == labels3.data))\n",
    "\n",
    "                epoch_loss = running_loss / dataset_sizes['satellite']\n",
    "                epoch_acc1 = running_corrects / dataset_sizes['satellite']\n",
    "                epoch_acc2 = running_corrects2 / dataset_sizes['satellite']\n",
    "                epoch_acc3 = running_corrects3 / dataset_sizes['satellite']\n",
    "                #print('{} Loss: {:.4f} Satellite_Acc: {:.4f}  Street_Acc: {:.4f} Drone_Acc: {:.4f}'.format(phase, epoch_loss, epoch_acc1, epoch_acc2, epoch_acc3))\n",
    "\n",
    "                yloss[phase].append(epoch_loss)    \n",
    "                yacc[phase]['satellite'].append(epoch_acc1) \n",
    "                yacc[phase]['street'].append(epoch_acc2)\n",
    "                yacc[phase]['drone'].append(epoch_acc3)\n",
    "\n",
    "\n",
    "                # deep copy the model\n",
    "                if phase == 'train':\n",
    "                    scheduler.step()\n",
    "                last_model_wts = model.state_dict()\n",
    "                if epoch%self.checkpoint_interval == 0:\n",
    "                    self.save_network(model, epoch)\n",
    "                #draw_curve(epoch)\n",
    "\n",
    "        #print('Best val Acc: {:4f}'.format(best_acc))\n",
    "        #save_network(model_test, opt.name+'adapt', epoch)\n",
    "        train_info = {'loss': yloss, 'error': yacc}\n",
    "\n",
    "        self.model = model \n",
    "        self.train_info = train_info\n",
    "\n",
    "    def save_network(self, network, epoch_label):\n",
    "        if not os.path.isdir(os.path.join(os.getcwd(), self.pardir, self.name)):\n",
    "            os.mkdir(os.path.join(os.getcwd(), self.pardir, self.name))\n",
    "        if isinstance(epoch_label, int):\n",
    "            save_filename = 'net_%03d.pth'% epoch_label\n",
    "        else:\n",
    "            save_filename = 'net_%s.pth'% epoch_label\n",
    "        save_path = os.path.join(os.getcwd(), self.pardir, self.name, save_filename)\n",
    "        torch.save(network.cpu().state_dict(), save_path)\n",
    "        if torch.cuda.is_available:\n",
    "            network.cuda()\n",
    "\n"
   ]
  },
  {
   "cell_type": "markdown",
   "metadata": {},
   "source": [
    "## Training \n",
    "\n",
    "use regular training dataset (University-Release)"
   ]
  },
  {
   "cell_type": "code",
   "execution_count": 9,
   "metadata": {},
   "outputs": [],
   "source": [
    "baseline = Model(checkpoint_interval=10, num_epochs=180, name='LPN')"
   ]
  },
  {
   "cell_type": "code",
   "execution_count": 10,
   "metadata": {},
   "outputs": [
    {
     "name": "stderr",
     "output_type": "stream",
     "text": [
      "Epoach 1/180: 100%|██████████| 88/88 [01:03<00:00,  1.39it/s, Acc_drone=0.0000, Acc_satellite=0.0000, Acc_street=0.0000, Loss=inf]\n",
      "Epoach 2/180: 100%|██████████| 88/88 [01:03<00:00,  1.39it/s, Acc_drone=0.0785, Acc_satellite=0.0157, Acc_street=0.0200, Loss=116.4806]\n",
      "Epoach 3/180: 100%|██████████| 88/88 [01:03<00:00,  1.39it/s, Acc_drone=0.1555, Acc_satellite=0.1512, Acc_street=0.1840, Loss=113.5806]\n",
      "Epoach 4/180: 100%|██████████| 88/88 [01:03<00:00,  1.39it/s, Acc_drone=0.1997, Acc_satellite=0.2882, Acc_street=0.2297, Loss=110.2897]\n",
      "Epoach 5/180: 100%|██████████| 88/88 [01:03<00:00,  1.39it/s, Acc_drone=0.2340, Acc_satellite=0.3566, Acc_street=0.2611, Loss=106.6478]\n",
      "Epoach 6/180: 100%|██████████| 88/88 [01:03<00:00,  1.39it/s, Acc_drone=0.2639, Acc_satellite=0.4165, Acc_street=0.2382, Loss=103.0933]\n",
      "Epoach 7/180: 100%|██████████| 88/88 [01:03<00:00,  1.38it/s, Acc_drone=0.2782, Acc_satellite=0.4593, Acc_street=0.2382, Loss=99.1664]\n",
      "Epoach 8/180: 100%|██████████| 88/88 [01:03<00:00,  1.39it/s, Acc_drone=0.3210, Acc_satellite=0.5364, Acc_street=0.2397, Loss=95.4370]\n",
      "Epoach 9/180: 100%|██████████| 88/88 [01:03<00:00,  1.39it/s, Acc_drone=0.3581, Acc_satellite=0.6148, Acc_street=0.2496, Loss=91.4973]\n",
      "Epoach 10/180: 100%|██████████| 88/88 [01:03<00:00,  1.38it/s, Acc_drone=0.4151, Acc_satellite=0.7161, Acc_street=0.2924, Loss=86.9882]\n",
      "Epoach 11/180: 100%|██████████| 88/88 [01:03<00:00,  1.39it/s, Acc_drone=0.4622, Acc_satellite=0.7660, Acc_street=0.3181, Loss=83.0952]\n",
      "Epoach 12/180: 100%|██████████| 88/88 [01:03<00:00,  1.38it/s, Acc_drone=0.5221, Acc_satellite=0.8445, Acc_street=0.3224, Loss=79.4970]\n",
      "Epoach 13/180: 100%|██████████| 88/88 [01:03<00:00,  1.38it/s, Acc_drone=0.6020, Acc_satellite=0.8716, Acc_street=0.3695, Loss=75.2893]\n",
      "Epoach 14/180: 100%|██████████| 88/88 [01:03<00:00,  1.38it/s, Acc_drone=0.5763, Acc_satellite=0.9101, Acc_street=0.4094, Loss=72.0888]\n",
      "Epoach 15/180: 100%|██████████| 88/88 [01:02<00:00,  1.40it/s, Acc_drone=0.6933, Acc_satellite=0.9387, Acc_street=0.4280, Loss=67.9412]\n",
      "Epoach 16/180: 100%|██████████| 88/88 [01:03<00:00,  1.38it/s, Acc_drone=0.7147, Acc_satellite=0.9515, Acc_street=0.4494, Loss=63.7187]\n",
      "Epoach 17/180: 100%|██████████| 88/88 [01:03<00:00,  1.39it/s, Acc_drone=0.7361, Acc_satellite=0.9729, Acc_street=0.4922, Loss=60.6007]\n",
      "Epoach 18/180: 100%|██████████| 88/88 [01:04<00:00,  1.36it/s, Acc_drone=0.7789, Acc_satellite=0.9715, Acc_street=0.5164, Loss=57.5843]\n",
      "Epoach 19/180: 100%|██████████| 88/88 [01:13<00:00,  1.19it/s, Acc_drone=0.8017, Acc_satellite=0.9815, Acc_street=0.5321, Loss=54.1674]\n",
      "Epoach 20/180: 100%|██████████| 88/88 [01:02<00:00,  1.40it/s, Acc_drone=0.8288, Acc_satellite=0.9829, Acc_street=0.5991, Loss=51.2128]\n",
      "Epoach 21/180: 100%|██████████| 88/88 [01:03<00:00,  1.38it/s, Acc_drone=0.8559, Acc_satellite=0.9872, Acc_street=0.6106, Loss=48.5822]\n",
      "Epoach 22/180: 100%|██████████| 88/88 [01:03<00:00,  1.38it/s, Acc_drone=0.8745, Acc_satellite=0.9900, Acc_street=0.6519, Loss=45.7629]\n",
      "Epoach 23/180: 100%|██████████| 88/88 [01:03<00:00,  1.38it/s, Acc_drone=0.8816, Acc_satellite=0.9857, Acc_street=0.6519, Loss=43.7053]\n",
      "Epoach 24/180: 100%|██████████| 88/88 [01:03<00:00,  1.38it/s, Acc_drone=0.8787, Acc_satellite=0.9872, Acc_street=0.6876, Loss=41.4620]\n",
      "Epoach 25/180: 100%|██████████| 88/88 [01:03<00:00,  1.39it/s, Acc_drone=0.9087, Acc_satellite=0.9886, Acc_street=0.7290, Loss=39.0876]\n",
      "Epoach 26/180: 100%|██████████| 88/88 [01:03<00:00,  1.39it/s, Acc_drone=0.9073, Acc_satellite=0.9886, Acc_street=0.7361, Loss=37.4193]\n",
      "Epoach 27/180: 100%|██████████| 88/88 [01:03<00:00,  1.39it/s, Acc_drone=0.9130, Acc_satellite=0.9886, Acc_street=0.7603, Loss=35.0487]\n",
      "Epoach 28/180: 100%|██████████| 88/88 [01:03<00:00,  1.38it/s, Acc_drone=0.9215, Acc_satellite=0.9900, Acc_street=0.7817, Loss=33.0406]\n",
      "Epoach 29/180: 100%|██████████| 88/88 [01:03<00:00,  1.39it/s, Acc_drone=0.9230, Acc_satellite=0.9900, Acc_street=0.7989, Loss=32.0545]\n",
      "Epoach 30/180: 100%|██████████| 88/88 [01:03<00:00,  1.38it/s, Acc_drone=0.9415, Acc_satellite=0.9886, Acc_street=0.7874, Loss=30.3474]\n",
      "Epoach 31/180: 100%|██████████| 88/88 [01:02<00:00,  1.40it/s, Acc_drone=0.9472, Acc_satellite=0.9886, Acc_street=0.8074, Loss=29.0966]\n",
      "Epoach 32/180: 100%|██████████| 88/88 [01:03<00:00,  1.39it/s, Acc_drone=0.9429, Acc_satellite=0.9872, Acc_street=0.8274, Loss=27.5980]\n",
      "Epoach 33/180: 100%|██████████| 88/88 [01:02<00:00,  1.40it/s, Acc_drone=0.9444, Acc_satellite=0.9886, Acc_street=0.8616, Loss=25.8493]\n",
      "Epoach 34/180: 100%|██████████| 88/88 [01:04<00:00,  1.36it/s, Acc_drone=0.9372, Acc_satellite=0.9872, Acc_street=0.8673, Loss=25.5982]\n",
      "Epoach 35/180: 100%|██████████| 88/88 [01:03<00:00,  1.39it/s, Acc_drone=0.9501, Acc_satellite=0.9914, Acc_street=0.8688, Loss=24.6676]\n",
      "Epoach 36/180: 100%|██████████| 88/88 [01:03<00:00,  1.39it/s, Acc_drone=0.9686, Acc_satellite=0.9886, Acc_street=0.8716, Loss=23.2385]\n",
      "Epoach 37/180: 100%|██████████| 88/88 [01:03<00:00,  1.39it/s, Acc_drone=0.9686, Acc_satellite=0.9886, Acc_street=0.8802, Loss=22.4632]\n",
      "Epoach 38/180: 100%|██████████| 88/88 [01:03<00:00,  1.39it/s, Acc_drone=0.9700, Acc_satellite=0.9914, Acc_street=0.8987, Loss=21.0827]\n",
      "Epoach 39/180: 100%|██████████| 88/88 [01:03<00:00,  1.39it/s, Acc_drone=0.9700, Acc_satellite=0.9900, Acc_street=0.9073, Loss=19.9845]\n",
      "Epoach 40/180: 100%|██████████| 88/88 [01:03<00:00,  1.39it/s, Acc_drone=0.9757, Acc_satellite=0.9872, Acc_street=0.9344, Loss=19.1977]\n",
      "Epoach 41/180: 100%|██████████| 88/88 [01:03<00:00,  1.39it/s, Acc_drone=0.9615, Acc_satellite=0.9900, Acc_street=0.9301, Loss=18.9207]\n",
      "Epoach 42/180: 100%|██████████| 88/88 [01:03<00:00,  1.39it/s, Acc_drone=0.9686, Acc_satellite=0.9886, Acc_street=0.9415, Loss=18.1141]\n",
      "Epoach 43/180: 100%|██████████| 88/88 [01:03<00:00,  1.39it/s, Acc_drone=0.9772, Acc_satellite=0.9872, Acc_street=0.9486, Loss=17.5238]\n",
      "Epoach 44/180: 100%|██████████| 88/88 [01:03<00:00,  1.38it/s, Acc_drone=0.9743, Acc_satellite=0.9900, Acc_street=0.9501, Loss=16.6880]\n",
      "Epoach 45/180: 100%|██████████| 88/88 [01:03<00:00,  1.39it/s, Acc_drone=0.9658, Acc_satellite=0.9900, Acc_street=0.9458, Loss=16.1811]\n",
      "Epoach 46/180: 100%|██████████| 88/88 [01:03<00:00,  1.40it/s, Acc_drone=0.9715, Acc_satellite=0.9900, Acc_street=0.9615, Loss=15.3702]\n",
      "Epoach 47/180: 100%|██████████| 88/88 [01:03<00:00,  1.38it/s, Acc_drone=0.9601, Acc_satellite=0.9914, Acc_street=0.9601, Loss=14.9420]\n",
      "Epoach 48/180: 100%|██████████| 88/88 [01:03<00:00,  1.39it/s, Acc_drone=0.9757, Acc_satellite=0.9900, Acc_street=0.9629, Loss=14.5058]\n",
      "Epoach 49/180: 100%|██████████| 88/88 [01:03<00:00,  1.39it/s, Acc_drone=0.9629, Acc_satellite=0.9900, Acc_street=0.9658, Loss=14.0943]\n",
      "Epoach 50/180: 100%|██████████| 88/88 [01:03<00:00,  1.39it/s, Acc_drone=0.9700, Acc_satellite=0.9900, Acc_street=0.9715, Loss=13.4945]\n",
      "Epoach 51/180: 100%|██████████| 88/88 [01:02<00:00,  1.40it/s, Acc_drone=0.9757, Acc_satellite=0.9886, Acc_street=0.9643, Loss=13.3105]\n",
      "Epoach 52/180: 100%|██████████| 88/88 [01:03<00:00,  1.39it/s, Acc_drone=0.9786, Acc_satellite=0.9900, Acc_street=0.9743, Loss=12.6432]\n",
      "Epoach 53/180: 100%|██████████| 88/88 [01:03<00:00,  1.39it/s, Acc_drone=0.9729, Acc_satellite=0.9900, Acc_street=0.9786, Loss=11.8330]\n",
      "Epoach 54/180: 100%|██████████| 88/88 [01:03<00:00,  1.39it/s, Acc_drone=0.9829, Acc_satellite=0.9886, Acc_street=0.9672, Loss=11.7045]\n",
      "Epoach 55/180: 100%|██████████| 88/88 [01:03<00:00,  1.39it/s, Acc_drone=0.9786, Acc_satellite=0.9900, Acc_street=0.9715, Loss=11.5795]\n",
      "Epoach 56/180: 100%|██████████| 88/88 [01:03<00:00,  1.38it/s, Acc_drone=0.9757, Acc_satellite=0.9900, Acc_street=0.9843, Loss=10.9823]\n",
      "Epoach 57/180: 100%|██████████| 88/88 [01:03<00:00,  1.39it/s, Acc_drone=0.9715, Acc_satellite=0.9900, Acc_street=0.9886, Loss=10.5088]\n",
      "Epoach 58/180: 100%|██████████| 88/88 [01:03<00:00,  1.39it/s, Acc_drone=0.9829, Acc_satellite=0.9886, Acc_street=0.9829, Loss=10.0937]\n",
      "Epoach 59/180: 100%|██████████| 88/88 [01:03<00:00,  1.39it/s, Acc_drone=0.9729, Acc_satellite=0.9886, Acc_street=0.9886, Loss=9.9481]\n",
      "Epoach 60/180: 100%|██████████| 88/88 [01:03<00:00,  1.39it/s, Acc_drone=0.9829, Acc_satellite=0.9914, Acc_street=0.9829, Loss=9.7501]\n",
      "Epoach 61/180: 100%|██████████| 88/88 [01:03<00:00,  1.39it/s, Acc_drone=0.9800, Acc_satellite=0.9900, Acc_street=0.9815, Loss=9.3196]\n",
      "Epoach 62/180: 100%|██████████| 88/88 [01:03<00:00,  1.39it/s, Acc_drone=0.9829, Acc_satellite=0.9900, Acc_street=0.9914, Loss=8.8770]\n",
      "Epoach 63/180: 100%|██████████| 88/88 [01:03<00:00,  1.39it/s, Acc_drone=0.9872, Acc_satellite=0.9900, Acc_street=0.9857, Loss=9.1943]\n",
      "Epoach 64/180: 100%|██████████| 88/88 [01:03<00:00,  1.39it/s, Acc_drone=0.9815, Acc_satellite=0.9872, Acc_street=0.9900, Loss=8.5430]\n",
      "Epoach 65/180: 100%|██████████| 88/88 [01:03<00:00,  1.38it/s, Acc_drone=0.9815, Acc_satellite=0.9914, Acc_street=0.9872, Loss=8.7602]\n",
      "Epoach 66/180: 100%|██████████| 88/88 [01:03<00:00,  1.39it/s, Acc_drone=0.9800, Acc_satellite=0.9886, Acc_street=0.9886, Loss=8.5057]\n",
      "Epoach 67/180: 100%|██████████| 88/88 [01:03<00:00,  1.38it/s, Acc_drone=0.9786, Acc_satellite=0.9886, Acc_street=0.9886, Loss=8.1588]\n",
      "Epoach 68/180: 100%|██████████| 88/88 [01:03<00:00,  1.38it/s, Acc_drone=0.9857, Acc_satellite=0.9900, Acc_street=0.9872, Loss=7.7102]\n",
      "Epoach 69/180: 100%|██████████| 88/88 [01:03<00:00,  1.39it/s, Acc_drone=0.9872, Acc_satellite=0.9886, Acc_street=0.9900, Loss=7.4502]\n",
      "Epoach 70/180: 100%|██████████| 88/88 [01:03<00:00,  1.39it/s, Acc_drone=0.9815, Acc_satellite=0.9886, Acc_street=0.9914, Loss=7.6207]\n",
      "Epoach 71/180: 100%|██████████| 88/88 [01:02<00:00,  1.40it/s, Acc_drone=0.9815, Acc_satellite=0.9886, Acc_street=0.9872, Loss=7.2917]\n",
      "Epoach 72/180: 100%|██████████| 88/88 [01:03<00:00,  1.39it/s, Acc_drone=0.9786, Acc_satellite=0.9914, Acc_street=0.9900, Loss=7.3034]\n",
      "Epoach 73/180: 100%|██████████| 88/88 [01:03<00:00,  1.39it/s, Acc_drone=0.9843, Acc_satellite=0.9914, Acc_street=0.9900, Loss=6.9370]\n",
      "Epoach 74/180: 100%|██████████| 88/88 [01:03<00:00,  1.39it/s, Acc_drone=0.9829, Acc_satellite=0.9900, Acc_street=0.9914, Loss=6.6467]\n",
      "Epoach 75/180: 100%|██████████| 88/88 [01:03<00:00,  1.39it/s, Acc_drone=0.9786, Acc_satellite=0.9900, Acc_street=0.9900, Loss=6.8245]\n",
      "Epoach 76/180: 100%|██████████| 88/88 [01:03<00:00,  1.39it/s, Acc_drone=0.9829, Acc_satellite=0.9886, Acc_street=0.9914, Loss=6.4346]\n",
      "Epoach 77/180: 100%|██████████| 88/88 [01:03<00:00,  1.39it/s, Acc_drone=0.9772, Acc_satellite=0.9886, Acc_street=0.9872, Loss=6.4715]\n",
      "Epoach 78/180: 100%|██████████| 88/88 [01:03<00:00,  1.39it/s, Acc_drone=0.9886, Acc_satellite=0.9900, Acc_street=0.9886, Loss=6.0435]\n",
      "Epoach 79/180: 100%|██████████| 88/88 [01:03<00:00,  1.39it/s, Acc_drone=0.9800, Acc_satellite=0.9900, Acc_street=0.9929, Loss=6.0430]\n",
      "Epoach 80/180: 100%|██████████| 88/88 [01:03<00:00,  1.39it/s, Acc_drone=0.9800, Acc_satellite=0.9886, Acc_street=0.9857, Loss=6.1489]\n",
      "Epoach 81/180: 100%|██████████| 88/88 [01:03<00:00,  1.39it/s, Acc_drone=0.9886, Acc_satellite=0.9872, Acc_street=0.9914, Loss=5.6260]\n",
      "Epoach 82/180: 100%|██████████| 88/88 [01:03<00:00,  1.39it/s, Acc_drone=0.9829, Acc_satellite=0.9929, Acc_street=0.9914, Loss=5.5476]\n",
      "Epoach 83/180: 100%|██████████| 88/88 [01:03<00:00,  1.39it/s, Acc_drone=0.9815, Acc_satellite=0.9900, Acc_street=0.9914, Loss=5.5243]\n",
      "Epoach 84/180: 100%|██████████| 88/88 [01:03<00:00,  1.39it/s, Acc_drone=0.9886, Acc_satellite=0.9914, Acc_street=0.9914, Loss=5.5711]\n",
      "Epoach 85/180: 100%|██████████| 88/88 [01:03<00:00,  1.39it/s, Acc_drone=0.9829, Acc_satellite=0.9900, Acc_street=0.9914, Loss=5.4905]\n",
      "Epoach 86/180: 100%|██████████| 88/88 [01:03<00:00,  1.38it/s, Acc_drone=0.9900, Acc_satellite=0.9886, Acc_street=0.9929, Loss=5.5944]\n",
      "Epoach 87/180: 100%|██████████| 88/88 [01:03<00:00,  1.38it/s, Acc_drone=0.9872, Acc_satellite=0.9900, Acc_street=0.9914, Loss=5.5180]\n",
      "Epoach 88/180: 100%|██████████| 88/88 [01:03<00:00,  1.38it/s, Acc_drone=0.9843, Acc_satellite=0.9900, Acc_street=0.9886, Loss=5.3706]\n",
      "Epoach 89/180: 100%|██████████| 88/88 [01:03<00:00,  1.39it/s, Acc_drone=0.9843, Acc_satellite=0.9929, Acc_street=0.9929, Loss=5.4087]\n",
      "Epoach 90/180: 100%|██████████| 88/88 [01:02<00:00,  1.40it/s, Acc_drone=0.9843, Acc_satellite=0.9900, Acc_street=0.9914, Loss=5.1783]\n",
      "Epoach 91/180: 100%|██████████| 88/88 [01:03<00:00,  1.38it/s, Acc_drone=0.9829, Acc_satellite=0.9886, Acc_street=0.9929, Loss=5.3462]\n",
      "Epoach 92/180: 100%|██████████| 88/88 [01:03<00:00,  1.38it/s, Acc_drone=0.9829, Acc_satellite=0.9900, Acc_street=0.9900, Loss=5.3850]\n",
      "Epoach 93/180: 100%|██████████| 88/88 [01:02<00:00,  1.40it/s, Acc_drone=0.9800, Acc_satellite=0.9900, Acc_street=0.9929, Loss=5.3854]\n",
      "Epoach 94/180: 100%|██████████| 88/88 [01:03<00:00,  1.39it/s, Acc_drone=0.9843, Acc_satellite=0.9886, Acc_street=0.9914, Loss=5.4120]\n",
      "Epoach 95/180: 100%|██████████| 88/88 [01:03<00:00,  1.39it/s, Acc_drone=0.9886, Acc_satellite=0.9900, Acc_street=0.9929, Loss=5.3952]\n",
      "Epoach 96/180: 100%|██████████| 88/88 [01:03<00:00,  1.39it/s, Acc_drone=0.9815, Acc_satellite=0.9872, Acc_street=0.9929, Loss=5.2580]\n",
      "Epoach 97/180: 100%|██████████| 88/88 [01:03<00:00,  1.38it/s, Acc_drone=0.9829, Acc_satellite=0.9914, Acc_street=0.9929, Loss=5.3318]\n",
      "Epoach 98/180: 100%|██████████| 88/88 [01:03<00:00,  1.38it/s, Acc_drone=0.9886, Acc_satellite=0.9886, Acc_street=0.9900, Loss=5.3893]\n",
      "Epoach 99/180: 100%|██████████| 88/88 [01:03<00:00,  1.39it/s, Acc_drone=0.9843, Acc_satellite=0.9872, Acc_street=0.9914, Loss=5.3389]\n",
      "Epoach 100/180: 100%|██████████| 88/88 [01:03<00:00,  1.39it/s, Acc_drone=0.9872, Acc_satellite=0.9872, Acc_street=0.9914, Loss=5.4708]\n",
      "Epoach 101/180: 100%|██████████| 88/88 [01:03<00:00,  1.39it/s, Acc_drone=0.9872, Acc_satellite=0.9886, Acc_street=0.9914, Loss=5.0835]\n",
      "Epoach 102/180: 100%|██████████| 88/88 [01:03<00:00,  1.39it/s, Acc_drone=0.9900, Acc_satellite=0.9929, Acc_street=0.9914, Loss=5.1841]\n",
      "Epoach 103/180: 100%|██████████| 88/88 [01:03<00:00,  1.39it/s, Acc_drone=0.9857, Acc_satellite=0.9900, Acc_street=0.9929, Loss=5.1099]\n",
      "Epoach 104/180: 100%|██████████| 88/88 [01:03<00:00,  1.39it/s, Acc_drone=0.9857, Acc_satellite=0.9900, Acc_street=0.9914, Loss=5.2276]\n",
      "Epoach 105/180: 100%|██████████| 88/88 [01:03<00:00,  1.39it/s, Acc_drone=0.9857, Acc_satellite=0.9914, Acc_street=0.9900, Loss=4.9771]\n",
      "Epoach 106/180: 100%|██████████| 88/88 [01:03<00:00,  1.39it/s, Acc_drone=0.9914, Acc_satellite=0.9886, Acc_street=0.9900, Loss=5.0349]\n",
      "Epoach 107/180: 100%|██████████| 88/88 [01:03<00:00,  1.40it/s, Acc_drone=0.9843, Acc_satellite=0.9886, Acc_street=0.9929, Loss=5.2021]\n",
      "Epoach 108/180: 100%|██████████| 88/88 [01:03<00:00,  1.39it/s, Acc_drone=0.9786, Acc_satellite=0.9900, Acc_street=0.9929, Loss=4.9221]\n",
      "Epoach 109/180: 100%|██████████| 88/88 [01:03<00:00,  1.39it/s, Acc_drone=0.9843, Acc_satellite=0.9886, Acc_street=0.9900, Loss=5.1385]\n",
      "Epoach 110/180: 100%|██████████| 88/88 [01:03<00:00,  1.38it/s, Acc_drone=0.9786, Acc_satellite=0.9900, Acc_street=0.9929, Loss=5.0954]\n",
      "Epoach 111/180: 100%|██████████| 88/88 [01:03<00:00,  1.38it/s, Acc_drone=0.9843, Acc_satellite=0.9900, Acc_street=0.9929, Loss=4.9935]\n",
      "Epoach 112/180: 100%|██████████| 88/88 [01:03<00:00,  1.39it/s, Acc_drone=0.9843, Acc_satellite=0.9914, Acc_street=0.9914, Loss=4.9837]\n",
      "Epoach 113/180: 100%|██████████| 88/88 [01:03<00:00,  1.39it/s, Acc_drone=0.9829, Acc_satellite=0.9900, Acc_street=0.9929, Loss=5.0139]\n",
      "Epoach 114/180: 100%|██████████| 88/88 [01:03<00:00,  1.40it/s, Acc_drone=0.9829, Acc_satellite=0.9900, Acc_street=0.9929, Loss=5.1051]\n",
      "Epoach 115/180: 100%|██████████| 88/88 [01:03<00:00,  1.39it/s, Acc_drone=0.9815, Acc_satellite=0.9900, Acc_street=0.9914, Loss=4.9426]\n",
      "Epoach 116/180: 100%|██████████| 88/88 [01:03<00:00,  1.38it/s, Acc_drone=0.9829, Acc_satellite=0.9914, Acc_street=0.9914, Loss=4.8262]\n",
      "Epoach 117/180: 100%|██████████| 88/88 [01:03<00:00,  1.38it/s, Acc_drone=0.9843, Acc_satellite=0.9886, Acc_street=0.9914, Loss=5.0324]\n",
      "Epoach 118/180: 100%|██████████| 88/88 [01:03<00:00,  1.39it/s, Acc_drone=0.9886, Acc_satellite=0.9886, Acc_street=0.9914, Loss=4.8568]\n",
      "Epoach 119/180: 100%|██████████| 88/88 [01:03<00:00,  1.38it/s, Acc_drone=0.9843, Acc_satellite=0.9914, Acc_street=0.9900, Loss=4.6131]\n",
      "Epoach 120/180: 100%|██████████| 88/88 [01:03<00:00,  1.38it/s, Acc_drone=0.9815, Acc_satellite=0.9900, Acc_street=0.9914, Loss=4.9718]\n",
      "Epoach 121/180: 100%|██████████| 88/88 [01:03<00:00,  1.39it/s, Acc_drone=0.9872, Acc_satellite=0.9886, Acc_street=0.9929, Loss=4.8796]\n",
      "Epoach 122/180: 100%|██████████| 88/88 [01:03<00:00,  1.39it/s, Acc_drone=0.9815, Acc_satellite=0.9900, Acc_street=0.9929, Loss=4.8132]\n",
      "Epoach 123/180: 100%|██████████| 88/88 [01:03<00:00,  1.39it/s, Acc_drone=0.9857, Acc_satellite=0.9914, Acc_street=0.9914, Loss=5.1046]\n",
      "Epoach 124/180: 100%|██████████| 88/88 [01:03<00:00,  1.39it/s, Acc_drone=0.9857, Acc_satellite=0.9886, Acc_street=0.9914, Loss=4.9251]\n",
      "Epoach 125/180: 100%|██████████| 88/88 [01:03<00:00,  1.39it/s, Acc_drone=0.9872, Acc_satellite=0.9900, Acc_street=0.9914, Loss=4.8552]\n",
      "Epoach 126/180: 100%|██████████| 88/88 [01:03<00:00,  1.39it/s, Acc_drone=0.9872, Acc_satellite=0.9900, Acc_street=0.9929, Loss=4.8489]\n",
      "Epoach 127/180: 100%|██████████| 88/88 [01:03<00:00,  1.39it/s, Acc_drone=0.9829, Acc_satellite=0.9900, Acc_street=0.9914, Loss=4.8733]\n",
      "Epoach 128/180: 100%|██████████| 88/88 [01:03<00:00,  1.39it/s, Acc_drone=0.9857, Acc_satellite=0.9900, Acc_street=0.9900, Loss=5.0991]\n",
      "Epoach 129/180: 100%|██████████| 88/88 [01:03<00:00,  1.38it/s, Acc_drone=0.9872, Acc_satellite=0.9900, Acc_street=0.9929, Loss=4.6958]\n",
      "Epoach 130/180: 100%|██████████| 88/88 [01:03<00:00,  1.38it/s, Acc_drone=0.9886, Acc_satellite=0.9900, Acc_street=0.9914, Loss=4.7669]\n",
      "Epoach 131/180: 100%|██████████| 88/88 [01:03<00:00,  1.39it/s, Acc_drone=0.9857, Acc_satellite=0.9872, Acc_street=0.9900, Loss=4.7787]\n",
      "Epoach 132/180: 100%|██████████| 88/88 [01:03<00:00,  1.39it/s, Acc_drone=0.9800, Acc_satellite=0.9914, Acc_street=0.9914, Loss=4.9250]\n",
      "Epoach 133/180: 100%|██████████| 88/88 [01:03<00:00,  1.39it/s, Acc_drone=0.9829, Acc_satellite=0.9886, Acc_street=0.9929, Loss=4.7870]\n",
      "Epoach 134/180: 100%|██████████| 88/88 [01:03<00:00,  1.39it/s, Acc_drone=0.9857, Acc_satellite=0.9900, Acc_street=0.9914, Loss=4.5703]\n",
      "Epoach 135/180: 100%|██████████| 88/88 [01:03<00:00,  1.39it/s, Acc_drone=0.9857, Acc_satellite=0.9914, Acc_street=0.9914, Loss=4.7362]\n",
      "Epoach 136/180: 100%|██████████| 88/88 [01:03<00:00,  1.39it/s, Acc_drone=0.9857, Acc_satellite=0.9886, Acc_street=0.9914, Loss=4.9302]\n",
      "Epoach 137/180: 100%|██████████| 88/88 [01:03<00:00,  1.39it/s, Acc_drone=0.9829, Acc_satellite=0.9872, Acc_street=0.9929, Loss=4.7270]\n",
      "Epoach 138/180: 100%|██████████| 88/88 [01:03<00:00,  1.39it/s, Acc_drone=0.9872, Acc_satellite=0.9886, Acc_street=0.9886, Loss=4.7015]\n",
      "Epoach 139/180: 100%|██████████| 88/88 [01:02<00:00,  1.40it/s, Acc_drone=0.9914, Acc_satellite=0.9900, Acc_street=0.9914, Loss=4.5317]\n",
      "Epoach 140/180: 100%|██████████| 88/88 [01:02<00:00,  1.41it/s, Acc_drone=0.9786, Acc_satellite=0.9886, Acc_street=0.9929, Loss=4.3499]\n",
      "Epoach 141/180: 100%|██████████| 88/88 [01:03<00:00,  1.39it/s, Acc_drone=0.9872, Acc_satellite=0.9872, Acc_street=0.9914, Loss=4.5503]\n",
      "Epoach 142/180: 100%|██████████| 88/88 [01:03<00:00,  1.39it/s, Acc_drone=0.9843, Acc_satellite=0.9900, Acc_street=0.9929, Loss=4.6582]\n",
      "Epoach 143/180: 100%|██████████| 88/88 [01:03<00:00,  1.39it/s, Acc_drone=0.9829, Acc_satellite=0.9900, Acc_street=0.9914, Loss=4.5800]\n",
      "Epoach 144/180: 100%|██████████| 88/88 [01:03<00:00,  1.39it/s, Acc_drone=0.9886, Acc_satellite=0.9886, Acc_street=0.9929, Loss=4.4611]\n",
      "Epoach 145/180: 100%|██████████| 88/88 [01:03<00:00,  1.39it/s, Acc_drone=0.9857, Acc_satellite=0.9900, Acc_street=0.9929, Loss=4.4881]\n",
      "Epoach 146/180: 100%|██████████| 88/88 [01:03<00:00,  1.39it/s, Acc_drone=0.9843, Acc_satellite=0.9900, Acc_street=0.9914, Loss=4.4608]\n",
      "Epoach 147/180: 100%|██████████| 88/88 [01:03<00:00,  1.39it/s, Acc_drone=0.9857, Acc_satellite=0.9886, Acc_street=0.9914, Loss=4.5944]\n",
      "Epoach 148/180: 100%|██████████| 88/88 [01:03<00:00,  1.39it/s, Acc_drone=0.9872, Acc_satellite=0.9886, Acc_street=0.9929, Loss=4.5337]\n",
      "Epoach 149/180: 100%|██████████| 88/88 [01:03<00:00,  1.39it/s, Acc_drone=0.9829, Acc_satellite=0.9929, Acc_street=0.9929, Loss=4.7386]\n",
      "Epoach 150/180: 100%|██████████| 88/88 [01:03<00:00,  1.39it/s, Acc_drone=0.9886, Acc_satellite=0.9900, Acc_street=0.9929, Loss=4.5298]\n",
      "Epoach 151/180: 100%|██████████| 88/88 [01:03<00:00,  1.39it/s, Acc_drone=0.9843, Acc_satellite=0.9914, Acc_street=0.9914, Loss=4.6131]\n",
      "Epoach 152/180: 100%|██████████| 88/88 [01:03<00:00,  1.40it/s, Acc_drone=0.9914, Acc_satellite=0.9900, Acc_street=0.9929, Loss=4.5585]\n",
      "Epoach 153/180: 100%|██████████| 88/88 [01:03<00:00,  1.39it/s, Acc_drone=0.9843, Acc_satellite=0.9900, Acc_street=0.9929, Loss=4.6030]\n",
      "Epoach 154/180: 100%|██████████| 88/88 [01:03<00:00,  1.39it/s, Acc_drone=0.9857, Acc_satellite=0.9914, Acc_street=0.9929, Loss=4.6664]\n",
      "Epoach 155/180: 100%|██████████| 88/88 [01:02<00:00,  1.40it/s, Acc_drone=0.9829, Acc_satellite=0.9914, Acc_street=0.9929, Loss=4.5748]\n",
      "Epoach 156/180: 100%|██████████| 88/88 [01:03<00:00,  1.39it/s, Acc_drone=0.9857, Acc_satellite=0.9886, Acc_street=0.9929, Loss=4.3617]\n",
      "Epoach 157/180: 100%|██████████| 88/88 [01:03<00:00,  1.39it/s, Acc_drone=0.9843, Acc_satellite=0.9872, Acc_street=0.9914, Loss=4.3283]\n",
      "Epoach 158/180: 100%|██████████| 88/88 [01:03<00:00,  1.39it/s, Acc_drone=0.9900, Acc_satellite=0.9872, Acc_street=0.9914, Loss=4.4101]\n",
      "Epoach 159/180: 100%|██████████| 88/88 [01:03<00:00,  1.38it/s, Acc_drone=0.9829, Acc_satellite=0.9886, Acc_street=0.9929, Loss=4.5377]\n",
      "Epoach 160/180: 100%|██████████| 88/88 [01:03<00:00,  1.39it/s, Acc_drone=0.9843, Acc_satellite=0.9900, Acc_street=0.9914, Loss=4.3821]\n",
      "Epoach 161/180: 100%|██████████| 88/88 [01:03<00:00,  1.39it/s, Acc_drone=0.9900, Acc_satellite=0.9900, Acc_street=0.9929, Loss=4.4656]\n",
      "Epoach 162/180: 100%|██████████| 88/88 [01:04<00:00,  1.37it/s, Acc_drone=0.9843, Acc_satellite=0.9886, Acc_street=0.9929, Loss=4.3880]\n",
      "Epoach 163/180: 100%|██████████| 88/88 [01:02<00:00,  1.41it/s, Acc_drone=0.9886, Acc_satellite=0.9900, Acc_street=0.9929, Loss=4.0940]\n",
      "Epoach 164/180: 100%|██████████| 88/88 [01:03<00:00,  1.39it/s, Acc_drone=0.9800, Acc_satellite=0.9929, Acc_street=0.9929, Loss=4.4164]\n",
      "Epoach 165/180: 100%|██████████| 88/88 [01:03<00:00,  1.39it/s, Acc_drone=0.9843, Acc_satellite=0.9900, Acc_street=0.9929, Loss=4.5410]\n",
      "Epoach 166/180: 100%|██████████| 88/88 [01:03<00:00,  1.39it/s, Acc_drone=0.9914, Acc_satellite=0.9886, Acc_street=0.9929, Loss=4.4263]\n",
      "Epoach 167/180: 100%|██████████| 88/88 [01:03<00:00,  1.39it/s, Acc_drone=0.9857, Acc_satellite=0.9914, Acc_street=0.9929, Loss=4.4260]\n",
      "Epoach 168/180: 100%|██████████| 88/88 [01:03<00:00,  1.39it/s, Acc_drone=0.9872, Acc_satellite=0.9900, Acc_street=0.9914, Loss=4.4485]\n",
      "Epoach 169/180: 100%|██████████| 88/88 [01:03<00:00,  1.39it/s, Acc_drone=0.9815, Acc_satellite=0.9886, Acc_street=0.9929, Loss=4.4449]\n",
      "Epoach 170/180: 100%|██████████| 88/88 [01:03<00:00,  1.39it/s, Acc_drone=0.9843, Acc_satellite=0.9900, Acc_street=0.9929, Loss=4.4549]\n",
      "Epoach 171/180: 100%|██████████| 88/88 [01:03<00:00,  1.39it/s, Acc_drone=0.9886, Acc_satellite=0.9900, Acc_street=0.9929, Loss=4.3311]\n",
      "Epoach 172/180: 100%|██████████| 88/88 [01:03<00:00,  1.38it/s, Acc_drone=0.9843, Acc_satellite=0.9900, Acc_street=0.9929, Loss=4.4546]\n",
      "Epoach 173/180: 100%|██████████| 88/88 [01:03<00:00,  1.38it/s, Acc_drone=0.9843, Acc_satellite=0.9929, Acc_street=0.9900, Loss=4.3537]\n",
      "Epoach 174/180: 100%|██████████| 88/88 [01:03<00:00,  1.40it/s, Acc_drone=0.9857, Acc_satellite=0.9914, Acc_street=0.9914, Loss=4.3881]\n",
      "Epoach 175/180: 100%|██████████| 88/88 [01:03<00:00,  1.39it/s, Acc_drone=0.9900, Acc_satellite=0.9900, Acc_street=0.9929, Loss=4.2224]\n",
      "Epoach 176/180: 100%|██████████| 88/88 [01:03<00:00,  1.39it/s, Acc_drone=0.9829, Acc_satellite=0.9914, Acc_street=0.9929, Loss=4.4963]\n",
      "Epoach 177/180: 100%|██████████| 88/88 [01:03<00:00,  1.39it/s, Acc_drone=0.9800, Acc_satellite=0.9900, Acc_street=0.9929, Loss=4.4594]\n",
      "Epoach 178/180: 100%|██████████| 88/88 [01:03<00:00,  1.39it/s, Acc_drone=0.9857, Acc_satellite=0.9886, Acc_street=0.9914, Loss=4.4037]\n",
      "Epoach 179/180: 100%|██████████| 88/88 [01:03<00:00,  1.39it/s, Acc_drone=0.9857, Acc_satellite=0.9929, Acc_street=0.9929, Loss=4.5659]\n",
      "Epoach 180/180: 100%|██████████| 88/88 [01:03<00:00,  1.39it/s, Acc_drone=0.9815, Acc_satellite=0.9900, Acc_street=0.9914, Loss=4.3792]\n"
     ]
    }
   ],
   "source": [
    "baseline.train()"
   ]
  },
  {
   "cell_type": "code",
   "execution_count": 11,
   "metadata": {},
   "outputs": [],
   "source": [
    "import numpy as np\n",
    "import matplotlib.pyplot as plt\n",
    "\n",
    "def visualize_train_info(model):\n",
    "    epoches = np.arange(1, model.num_epochs+1)\n",
    "    loss = model.train_info['loss']['train'][1:]\n",
    "    acc1 = model.train_info['error']['train']['satellite'][1:]\n",
    "    acc2 = model.train_info['error']['train']['street'][1:]\n",
    "    acc3 = model.train_info['error']['train']['drone'][1:]\n",
    "\n",
    "    fig, (ax1, ax2) = plt.subplots(1,2,figsize=(6,3))\n",
    "\n",
    "    ax1.plot(epoches, loss, label='Loss', color='blue')\n",
    "    ax2.plot(epoches, acc1, label='satellite', color='r')\n",
    "    ax2.plot(epoches, acc2, label='street', color='g')\n",
    "    ax2.plot(epoches, acc3, label='drone', color='orange')\n",
    "    ax2.legend()\n",
    "    ax1.set_title('Loss')\n",
    "    ax1.set_xlabel('epoch')\n",
    "    ax2.set_xlabel('epoch')\n",
    "    ax2.set_title('Accuracy')\n",
    "\n",
    "    plt.tight_layout()\n",
    "    plt.show()"
   ]
  },
  {
   "cell_type": "code",
   "execution_count": 31,
   "metadata": {},
   "outputs": [
    {
     "data": {
      "image/png": "[encoded data removed]",
      "text/plain": [
       "<Figure size 600x300 with 2 Axes>"
      ]
     },
     "metadata": {},
     "output_type": "display_data"
    }
   ],
   "source": [
    "visualize_train_info(baseline)\n"
   ]
  },
  {
   "cell_type": "markdown",
   "metadata": {},
   "source": [
    "# Test"
   ]
  },
  {
   "cell_type": "code",
   "execution_count": 32,
   "metadata": {},
   "outputs": [
    {
     "name": "stdout",
     "output_type": "stream",
     "text": [
      "load model: net_010.pth\n"
     ]
    },
    {
     "name": "stderr",
     "output_type": "stream",
     "text": [
      "Extract drone feature: 100%|██████████| 125/125 [00:28<00:00,  4.33it/s]\n",
      "Extract satellite feature: 100%|██████████| 8/8 [00:29<00:00,  3.63s/it]\n",
      "Evaluate metrics: 100%|██████████| 1000/1000 [00:00<00:00, 2107.25it/s]"
     ]
    },
    {
     "name": "stdout",
     "output_type": "stream",
     "text": [
      "Recall@1:64.60 \n",
      "Recall@5:78.90 \n",
      "Recall@10:82.40 \n",
      "Recall@top1:82.90 \n",
      "AP:67.83\n"
     ]
    },
    {
     "name": "stderr",
     "output_type": "stream",
     "text": [
      "\n"
     ]
    }
   ],
   "source": [
    "baseline.test(dataset='University-Release', test_num=1000, pth='net_010')\n",
    "baseline.metrics()\n"
   ]
  },
  {
   "cell_type": "code",
   "execution_count": 33,
   "metadata": {},
   "outputs": [
    {
     "name": "stdout",
     "output_type": "stream",
     "text": [
      "load model: net_040.pth\n"
     ]
    },
    {
     "name": "stderr",
     "output_type": "stream",
     "text": [
      "Extract drone feature: 100%|██████████| 125/125 [00:29<00:00,  4.27it/s]\n",
      "Extract satellite feature: 100%|██████████| 8/8 [00:31<00:00,  3.90s/it]\n",
      "Evaluate metrics: 100%|██████████| 1000/1000 [00:00<00:00, 2138.46it/s]"
     ]
    },
    {
     "name": "stdout",
     "output_type": "stream",
     "text": [
      "Recall@1:80.80 \n",
      "Recall@5:89.50 \n",
      "Recall@10:92.70 \n",
      "Recall@top1:93.20 \n",
      "AP:82.90\n"
     ]
    },
    {
     "name": "stderr",
     "output_type": "stream",
     "text": [
      "\n"
     ]
    }
   ],
   "source": [
    "baseline.test(dataset='University-Release', test_num=1000, pth='net_040')\n",
    "baseline.metrics()"
   ]
  },
  {
   "cell_type": "code",
   "execution_count": 34,
   "metadata": {},
   "outputs": [
    {
     "name": "stdout",
     "output_type": "stream",
     "text": [
      "load model: net_080.pth\n"
     ]
    },
    {
     "name": "stderr",
     "output_type": "stream",
     "text": [
      "Extract drone feature: 100%|██████████| 125/125 [00:29<00:00,  4.26it/s]\n",
      "Extract satellite feature: 100%|██████████| 8/8 [00:30<00:00,  3.82s/it]\n",
      "Evaluate metrics: 100%|██████████| 1000/1000 [00:00<00:00, 2199.56it/s]"
     ]
    },
    {
     "name": "stdout",
     "output_type": "stream",
     "text": [
      "Recall@1:83.80 \n",
      "Recall@5:92.10 \n",
      "Recall@10:95.30 \n",
      "Recall@top1:95.40 \n",
      "AP:85.80\n"
     ]
    },
    {
     "name": "stderr",
     "output_type": "stream",
     "text": [
      "\n"
     ]
    }
   ],
   "source": [
    "baseline.test(dataset='University-Release', test_num=1000, pth='net_080')\n",
    "baseline.metrics()"
   ]
  },
  {
   "cell_type": "code",
   "execution_count": 35,
   "metadata": {},
   "outputs": [
    {
     "name": "stdout",
     "output_type": "stream",
     "text": [
      "load model: net_120.pth\n"
     ]
    },
    {
     "name": "stderr",
     "output_type": "stream",
     "text": [
      "Extract drone feature: 100%|██████████| 125/125 [00:29<00:00,  4.24it/s]\n",
      "Extract satellite feature: 100%|██████████| 8/8 [00:30<00:00,  3.79s/it]\n",
      "Evaluate metrics: 100%|██████████| 1000/1000 [00:00<00:00, 2090.11it/s]"
     ]
    },
    {
     "name": "stdout",
     "output_type": "stream",
     "text": [
      "Recall@1:83.70 \n",
      "Recall@5:92.20 \n",
      "Recall@10:94.70 \n",
      "Recall@top1:94.90 \n",
      "AP:85.64\n"
     ]
    },
    {
     "name": "stderr",
     "output_type": "stream",
     "text": [
      "\n"
     ]
    }
   ],
   "source": [
    "baseline.test(dataset='University-Release', test_num=1000, pth='net_120')\n",
    "baseline.metrics()"
   ]
  },
  {
   "cell_type": "code",
   "execution_count": 36,
   "metadata": {},
   "outputs": [
    {
     "name": "stdout",
     "output_type": "stream",
     "text": [
      "load model: net_180.pth\n"
     ]
    },
    {
     "name": "stderr",
     "output_type": "stream",
     "text": [
      "Extract drone feature: 100%|██████████| 125/125 [00:29<00:00,  4.24it/s]\n",
      "Extract satellite feature: 100%|██████████| 8/8 [00:30<00:00,  3.78s/it]\n",
      "Evaluate metrics: 100%|██████████| 1000/1000 [00:00<00:00, 2108.49it/s]"
     ]
    },
    {
     "name": "stdout",
     "output_type": "stream",
     "text": [
      "Recall@1:84.50 \n",
      "Recall@5:93.10 \n",
      "Recall@10:95.60 \n",
      "Recall@top1:95.80 \n",
      "AP:86.46\n"
     ]
    },
    {
     "name": "stderr",
     "output_type": "stream",
     "text": [
      "\n"
     ]
    }
   ],
   "source": [
    "baseline.test(dataset='University-Release', test_num=1000, pth='net_180')\n",
    "baseline.metrics()"
   ]
  },
  {
   "cell_type": "markdown",
   "metadata": {},
   "source": [
    "## Multi Weather Test \n",
    "\n",
    "`University-Release-wx` can be acquired using `dataset.ipynb`"
   ]
  },
  {
   "cell_type": "code",
   "execution_count": 40,
   "metadata": {},
   "outputs": [
    {
     "name": "stdout",
     "output_type": "stream",
     "text": [
      "load model: net_060.pth\n"
     ]
    },
    {
     "name": "stderr",
     "output_type": "stream",
     "text": [
      "Extract drone feature: 100%|██████████| 125/125 [00:29<00:00,  4.27it/s]\n",
      "Extract satellite feature: 100%|██████████| 8/8 [00:30<00:00,  3.78s/it]\n",
      "Evaluate metrics: 100%|██████████| 1000/1000 [00:00<00:00, 2156.13it/s]"
     ]
    },
    {
     "name": "stdout",
     "output_type": "stream",
     "text": [
      "Recall@1:19.80 \n",
      "Recall@5:31.60 \n",
      "Recall@10:37.20 \n",
      "Recall@top1:37.80 \n",
      "AP:22.77\n"
     ]
    },
    {
     "name": "stderr",
     "output_type": "stream",
     "text": [
      "\n"
     ]
    }
   ],
   "source": [
    "baseline.test(dataset='University-Release-wx', test_num=1000, pth='net_060')\n",
    "baseline.metrics()"
   ]
  },
  {
   "cell_type": "code",
   "execution_count": 38,
   "metadata": {},
   "outputs": [
    {
     "name": "stdout",
     "output_type": "stream",
     "text": [
      "load model: net_120.pth\n"
     ]
    },
    {
     "name": "stderr",
     "output_type": "stream",
     "text": [
      "Extract drone feature: 100%|██████████| 125/125 [00:29<00:00,  4.28it/s]\n",
      "Extract satellite feature: 100%|██████████| 8/8 [00:34<00:00,  4.31s/it]\n",
      "Evaluate metrics: 100%|██████████| 1000/1000 [00:00<00:00, 1976.82it/s]"
     ]
    },
    {
     "name": "stdout",
     "output_type": "stream",
     "text": [
      "Recall@1:20.50 \n",
      "Recall@5:32.90 \n",
      "Recall@10:38.60 \n",
      "Recall@top1:39.60 \n",
      "AP:23.78\n"
     ]
    },
    {
     "name": "stderr",
     "output_type": "stream",
     "text": [
      "\n"
     ]
    }
   ],
   "source": [
    "baseline.test(dataset='University-Release-wx', test_num=1000, pth='net_120')\n",
    "baseline.metrics()"
   ]
  },
  {
   "cell_type": "code",
   "execution_count": 37,
   "metadata": {},
   "outputs": [
    {
     "name": "stdout",
     "output_type": "stream",
     "text": [
      "load model: net_180.pth\n"
     ]
    },
    {
     "name": "stderr",
     "output_type": "stream",
     "text": [
      "Extract drone feature: 100%|██████████| 125/125 [00:28<00:00,  4.31it/s]\n",
      "Extract satellite feature: 100%|██████████| 8/8 [00:31<00:00,  3.88s/it]\n",
      "Evaluate metrics: 100%|██████████| 1000/1000 [00:00<00:00, 2071.21it/s]\n"
     ]
    },
    {
     "name": "stdout",
     "output_type": "stream",
     "text": [
      "Recall@1:19.50 \n",
      "Recall@5:31.10 \n",
      "Recall@10:35.70 \n",
      "Recall@top1:36.70 \n",
      "AP:22.43\n"
     ]
    }
   ],
   "source": [
    "baseline.test(dataset='University-Release-wx', test_num=1000, pth='net_180')\n",
    "baseline.metrics()"
   ]
  },
  {
   "cell_type": "markdown",
   "metadata": {},
   "source": [
    "Conclusion: Multi Weather have negative impact on model performance\n",
    "\n",
    "## Train on (epoch-fixed) Multi Weather"
   ]
  },
  {
   "cell_type": "code",
   "execution_count": 9,
   "metadata": {},
   "outputs": [
    {
     "name": "stderr",
     "output_type": "stream",
     "text": [
      "Epoach 1/180: 100%|██████████| 88/88 [01:06<00:00,  1.33it/s, Acc_drone=0.0000, Acc_satellite=0.0000, Acc_street=0.0000, Loss=inf]\n",
      "Epoach 2/180: 100%|██████████| 88/88 [01:04<00:00,  1.37it/s, Acc_drone=0.0143, Acc_satellite=0.0057, Acc_street=0.0300, Loss=116.7382]\n",
      "Epoach 3/180: 100%|██████████| 88/88 [01:04<00:00,  1.36it/s, Acc_drone=0.0357, Acc_satellite=0.1469, Acc_street=0.1969, Loss=114.3936]\n",
      "Epoach 4/180: 100%|██████████| 88/88 [01:05<00:00,  1.34it/s, Acc_drone=0.0656, Acc_satellite=0.2525, Acc_street=0.2268, Loss=111.8849]\n",
      "Epoach 5/180: 100%|██████████| 88/88 [01:04<00:00,  1.36it/s, Acc_drone=0.0699, Acc_satellite=0.3623, Acc_street=0.2468, Loss=109.1930]\n",
      "Epoach 6/180: 100%|██████████| 88/88 [01:05<00:00,  1.35it/s, Acc_drone=0.0884, Acc_satellite=0.4479, Acc_street=0.2653, Loss=106.2299]\n",
      "Epoach 7/180: 100%|██████████| 88/88 [01:05<00:00,  1.33it/s, Acc_drone=0.0728, Acc_satellite=0.4551, Acc_street=0.2568, Loss=103.3028]\n",
      "Epoach 8/180: 100%|██████████| 88/88 [01:04<00:00,  1.37it/s, Acc_drone=0.1027, Acc_satellite=0.5292, Acc_street=0.2397, Loss=100.0071]\n",
      "Epoach 9/180: 100%|██████████| 88/88 [01:04<00:00,  1.37it/s, Acc_drone=0.1241, Acc_satellite=0.6006, Acc_street=0.2939, Loss=96.6519]\n",
      "Epoach 10/180: 100%|██████████| 88/88 [01:04<00:00,  1.37it/s, Acc_drone=0.1512, Acc_satellite=0.6976, Acc_street=0.2996, Loss=93.2733]\n",
      "Epoach 11/180: 100%|██████████| 88/88 [01:05<00:00,  1.35it/s, Acc_drone=0.1897, Acc_satellite=0.7318, Acc_street=0.3110, Loss=89.8447]\n",
      "Epoach 12/180: 100%|██████████| 88/88 [01:05<00:00,  1.34it/s, Acc_drone=0.2054, Acc_satellite=0.7646, Acc_street=0.3538, Loss=86.1199]\n",
      "Epoach 13/180: 100%|██████████| 88/88 [01:05<00:00,  1.35it/s, Acc_drone=0.2553, Acc_satellite=0.8431, Acc_street=0.3623, Loss=82.6914]\n",
      "Epoach 14/180: 100%|██████████| 88/88 [01:05<00:00,  1.34it/s, Acc_drone=0.3010, Acc_satellite=0.8773, Acc_street=0.4037, Loss=79.8909]\n",
      "Epoach 15/180: 100%|██████████| 88/88 [01:05<00:00,  1.34it/s, Acc_drone=0.3267, Acc_satellite=0.9173, Acc_street=0.4294, Loss=76.9088]\n",
      "Epoach 16/180: 100%|██████████| 88/88 [01:04<00:00,  1.36it/s, Acc_drone=0.3695, Acc_satellite=0.9458, Acc_street=0.4408, Loss=73.6394]\n",
      "Epoach 17/180: 100%|██████████| 88/88 [01:04<00:00,  1.36it/s, Acc_drone=0.4123, Acc_satellite=0.9444, Acc_street=0.4793, Loss=69.7384]\n",
      "Epoach 18/180: 100%|██████████| 88/88 [01:04<00:00,  1.36it/s, Acc_drone=0.4479, Acc_satellite=0.9715, Acc_street=0.4907, Loss=67.2420]\n",
      "Epoach 19/180: 100%|██████████| 88/88 [01:04<00:00,  1.36it/s, Acc_drone=0.5050, Acc_satellite=0.9700, Acc_street=0.5521, Loss=63.7946]\n",
      "Epoach 20/180: 100%|██████████| 88/88 [01:04<00:00,  1.36it/s, Acc_drone=0.5178, Acc_satellite=0.9815, Acc_street=0.5649, Loss=61.1388]\n",
      "Epoach 21/180: 100%|██████████| 88/88 [01:04<00:00,  1.36it/s, Acc_drone=0.5663, Acc_satellite=0.9843, Acc_street=0.6277, Loss=58.4239]\n",
      "Epoach 22/180: 100%|██████████| 88/88 [01:05<00:00,  1.35it/s, Acc_drone=0.5877, Acc_satellite=0.9843, Acc_street=0.6091, Loss=56.3060]\n",
      "Epoach 23/180: 100%|██████████| 88/88 [01:05<00:00,  1.35it/s, Acc_drone=0.6034, Acc_satellite=0.9857, Acc_street=0.6562, Loss=53.2489]\n",
      "Epoach 24/180: 100%|██████████| 88/88 [01:05<00:00,  1.35it/s, Acc_drone=0.6348, Acc_satellite=0.9843, Acc_street=0.6662, Loss=51.1681]\n",
      "Epoach 25/180: 100%|██████████| 88/88 [01:04<00:00,  1.35it/s, Acc_drone=0.6990, Acc_satellite=0.9886, Acc_street=0.6776, Loss=48.6678]\n",
      "Epoach 26/180: 100%|██████████| 88/88 [01:05<00:00,  1.34it/s, Acc_drone=0.6862, Acc_satellite=0.9886, Acc_street=0.6890, Loss=47.0627]\n",
      "Epoach 27/180: 100%|██████████| 88/88 [01:05<00:00,  1.35it/s, Acc_drone=0.7247, Acc_satellite=0.9886, Acc_street=0.7447, Loss=44.7315]\n",
      "Epoach 28/180: 100%|██████████| 88/88 [01:04<00:00,  1.36it/s, Acc_drone=0.7204, Acc_satellite=0.9886, Acc_street=0.7646, Loss=42.7213]\n",
      "Epoach 29/180: 100%|██████████| 88/88 [01:04<00:00,  1.36it/s, Acc_drone=0.7375, Acc_satellite=0.9857, Acc_street=0.7589, Loss=40.6877]\n",
      "Epoach 30/180: 100%|██████████| 88/88 [01:04<00:00,  1.36it/s, Acc_drone=0.7689, Acc_satellite=0.9886, Acc_street=0.7789, Loss=39.8026]\n",
      "Epoach 31/180: 100%|██████████| 88/88 [01:05<00:00,  1.35it/s, Acc_drone=0.7917, Acc_satellite=0.9872, Acc_street=0.8188, Loss=38.0270]\n",
      "Epoach 32/180: 100%|██████████| 88/88 [01:05<00:00,  1.35it/s, Acc_drone=0.7675, Acc_satellite=0.9886, Acc_street=0.8217, Loss=36.4128]\n",
      "Epoach 33/180: 100%|██████████| 88/88 [01:04<00:00,  1.36it/s, Acc_drone=0.8074, Acc_satellite=0.9872, Acc_street=0.8445, Loss=35.2975]\n",
      "Epoach 34/180: 100%|██████████| 88/88 [01:04<00:00,  1.36it/s, Acc_drone=0.8288, Acc_satellite=0.9900, Acc_street=0.8388, Loss=33.7856]\n",
      "Epoach 35/180: 100%|██████████| 88/88 [01:05<00:00,  1.35it/s, Acc_drone=0.8302, Acc_satellite=0.9886, Acc_street=0.8830, Loss=31.9653]\n",
      "Epoach 36/180: 100%|██████████| 88/88 [01:04<00:00,  1.36it/s, Acc_drone=0.8174, Acc_satellite=0.9872, Acc_street=0.8873, Loss=31.0637]\n",
      "Epoach 37/180: 100%|██████████| 88/88 [01:04<00:00,  1.36it/s, Acc_drone=0.8317, Acc_satellite=0.9900, Acc_street=0.8559, Loss=30.0922]\n",
      "Epoach 38/180: 100%|██████████| 88/88 [01:04<00:00,  1.37it/s, Acc_drone=0.8531, Acc_satellite=0.9886, Acc_street=0.8859, Loss=28.6904]\n",
      "Epoach 39/180: 100%|██████████| 88/88 [01:04<00:00,  1.36it/s, Acc_drone=0.8374, Acc_satellite=0.9886, Acc_street=0.9030, Loss=27.9544]\n",
      "Epoach 40/180: 100%|██████████| 88/88 [01:04<00:00,  1.36it/s, Acc_drone=0.8502, Acc_satellite=0.9886, Acc_street=0.9187, Loss=27.2265]\n",
      "Epoach 41/180: 100%|██████████| 88/88 [01:04<00:00,  1.36it/s, Acc_drone=0.8573, Acc_satellite=0.9872, Acc_street=0.9201, Loss=25.9078]\n",
      "Epoach 42/180: 100%|██████████| 88/88 [01:04<00:00,  1.37it/s, Acc_drone=0.8502, Acc_satellite=0.9886, Acc_street=0.9272, Loss=25.7744]\n",
      "Epoach 43/180: 100%|██████████| 88/88 [01:04<00:00,  1.37it/s, Acc_drone=0.8702, Acc_satellite=0.9872, Acc_street=0.9372, Loss=24.4115]\n",
      "Epoach 44/180: 100%|██████████| 88/88 [01:04<00:00,  1.37it/s, Acc_drone=0.8816, Acc_satellite=0.9872, Acc_street=0.9458, Loss=23.3809]\n",
      "Epoach 45/180: 100%|██████████| 88/88 [01:04<00:00,  1.36it/s, Acc_drone=0.9016, Acc_satellite=0.9872, Acc_street=0.9429, Loss=22.6267]\n",
      "Epoach 46/180: 100%|██████████| 88/88 [01:04<00:00,  1.37it/s, Acc_drone=0.8959, Acc_satellite=0.9886, Acc_street=0.9515, Loss=22.0699]\n",
      "Epoach 47/180: 100%|██████████| 88/88 [01:04<00:00,  1.36it/s, Acc_drone=0.8902, Acc_satellite=0.9900, Acc_street=0.9486, Loss=21.4808]\n",
      "Epoach 48/180: 100%|██████████| 88/88 [01:04<00:00,  1.36it/s, Acc_drone=0.9187, Acc_satellite=0.9886, Acc_street=0.9544, Loss=20.9355]\n",
      "Epoach 49/180: 100%|██████████| 88/88 [01:04<00:00,  1.35it/s, Acc_drone=0.9158, Acc_satellite=0.9872, Acc_street=0.9615, Loss=19.5566]\n",
      "Epoach 50/180: 100%|██████████| 88/88 [01:05<00:00,  1.35it/s, Acc_drone=0.9130, Acc_satellite=0.9872, Acc_street=0.9629, Loss=19.3782]\n",
      "Epoach 51/180: 100%|██████████| 88/88 [01:04<00:00,  1.36it/s, Acc_drone=0.9101, Acc_satellite=0.9872, Acc_street=0.9658, Loss=18.5143]\n",
      "Epoach 52/180: 100%|██████████| 88/88 [01:04<00:00,  1.37it/s, Acc_drone=0.9358, Acc_satellite=0.9900, Acc_street=0.9743, Loss=17.9606]\n",
      "Epoach 53/180: 100%|██████████| 88/88 [01:04<00:00,  1.37it/s, Acc_drone=0.9344, Acc_satellite=0.9900, Acc_street=0.9800, Loss=17.3134]\n",
      "Epoach 54/180: 100%|██████████| 88/88 [01:04<00:00,  1.37it/s, Acc_drone=0.9358, Acc_satellite=0.9900, Acc_street=0.9757, Loss=17.1888]\n",
      "Epoach 55/180: 100%|██████████| 88/88 [01:04<00:00,  1.37it/s, Acc_drone=0.9372, Acc_satellite=0.9886, Acc_street=0.9772, Loss=17.0905]\n",
      "Epoach 56/180: 100%|██████████| 88/88 [01:04<00:00,  1.37it/s, Acc_drone=0.9358, Acc_satellite=0.9900, Acc_street=0.9772, Loss=16.6709]\n",
      "Epoach 57/180: 100%|██████████| 88/88 [01:04<00:00,  1.37it/s, Acc_drone=0.9486, Acc_satellite=0.9900, Acc_street=0.9815, Loss=15.3284]\n",
      "Epoach 58/180: 100%|██████████| 88/88 [01:05<00:00,  1.35it/s, Acc_drone=0.9301, Acc_satellite=0.9900, Acc_street=0.9743, Loss=15.3056]\n",
      "Epoach 59/180: 100%|██████████| 88/88 [01:04<00:00,  1.36it/s, Acc_drone=0.9201, Acc_satellite=0.9886, Acc_street=0.9857, Loss=15.1137]\n",
      "Epoach 60/180: 100%|██████████| 88/88 [01:04<00:00,  1.37it/s, Acc_drone=0.9287, Acc_satellite=0.9900, Acc_street=0.9772, Loss=15.2160]\n",
      "Epoach 61/180: 100%|██████████| 88/88 [01:04<00:00,  1.37it/s, Acc_drone=0.9529, Acc_satellite=0.9900, Acc_street=0.9843, Loss=14.2014]\n",
      "Epoach 62/180: 100%|██████████| 88/88 [01:04<00:00,  1.37it/s, Acc_drone=0.9358, Acc_satellite=0.9900, Acc_street=0.9829, Loss=14.0818]\n",
      "Epoach 63/180: 100%|██████████| 88/88 [01:04<00:00,  1.36it/s, Acc_drone=0.9486, Acc_satellite=0.9900, Acc_street=0.9829, Loss=13.1350]\n",
      "Epoach 64/180: 100%|██████████| 88/88 [01:04<00:00,  1.37it/s, Acc_drone=0.9401, Acc_satellite=0.9914, Acc_street=0.9886, Loss=13.1039]\n",
      "Epoach 65/180: 100%|██████████| 88/88 [01:04<00:00,  1.36it/s, Acc_drone=0.9330, Acc_satellite=0.9886, Acc_street=0.9857, Loss=13.0918]\n",
      "Epoach 66/180: 100%|██████████| 88/88 [01:04<00:00,  1.37it/s, Acc_drone=0.9429, Acc_satellite=0.9900, Acc_street=0.9900, Loss=13.2041]\n",
      "Epoach 67/180: 100%|██████████| 88/88 [01:04<00:00,  1.37it/s, Acc_drone=0.9458, Acc_satellite=0.9900, Acc_street=0.9886, Loss=12.3659]\n",
      "Epoach 68/180: 100%|██████████| 88/88 [01:04<00:00,  1.36it/s, Acc_drone=0.9586, Acc_satellite=0.9886, Acc_street=0.9914, Loss=12.2812]\n",
      "Epoach 69/180: 100%|██████████| 88/88 [01:04<00:00,  1.37it/s, Acc_drone=0.9458, Acc_satellite=0.9900, Acc_street=0.9886, Loss=11.3470]\n",
      "Epoach 70/180: 100%|██████████| 88/88 [01:04<00:00,  1.37it/s, Acc_drone=0.9586, Acc_satellite=0.9886, Acc_street=0.9815, Loss=11.6989]\n",
      "Epoach 71/180: 100%|██████████| 88/88 [01:04<00:00,  1.37it/s, Acc_drone=0.9572, Acc_satellite=0.9872, Acc_street=0.9929, Loss=11.2171]\n",
      "Epoach 72/180: 100%|██████████| 88/88 [01:04<00:00,  1.37it/s, Acc_drone=0.9458, Acc_satellite=0.9872, Acc_street=0.9900, Loss=11.2385]\n",
      "Epoach 73/180: 100%|██████████| 88/88 [01:04<00:00,  1.37it/s, Acc_drone=0.9544, Acc_satellite=0.9872, Acc_street=0.9929, Loss=10.9536]\n",
      "Epoach 74/180: 100%|██████████| 88/88 [01:04<00:00,  1.37it/s, Acc_drone=0.9629, Acc_satellite=0.9900, Acc_street=0.9872, Loss=10.5224]\n",
      "Epoach 75/180: 100%|██████████| 88/88 [01:04<00:00,  1.36it/s, Acc_drone=0.9629, Acc_satellite=0.9886, Acc_street=0.9929, Loss=10.3730]\n",
      "Epoach 76/180: 100%|██████████| 88/88 [01:04<00:00,  1.37it/s, Acc_drone=0.9743, Acc_satellite=0.9914, Acc_street=0.9914, Loss=10.1880]\n",
      "Epoach 77/180: 100%|██████████| 88/88 [01:04<00:00,  1.36it/s, Acc_drone=0.9601, Acc_satellite=0.9914, Acc_street=0.9900, Loss=9.9470]\n",
      "Epoach 78/180: 100%|██████████| 88/88 [01:03<00:00,  1.38it/s, Acc_drone=0.9515, Acc_satellite=0.9900, Acc_street=0.9929, Loss=9.7204]\n",
      "Epoach 79/180: 100%|██████████| 88/88 [01:04<00:00,  1.37it/s, Acc_drone=0.9572, Acc_satellite=0.9900, Acc_street=0.9914, Loss=9.4596]\n",
      "Epoach 80/180: 100%|██████████| 88/88 [01:04<00:00,  1.37it/s, Acc_drone=0.9686, Acc_satellite=0.9900, Acc_street=0.9914, Loss=9.1829]\n",
      "Epoach 81/180: 100%|██████████| 88/88 [01:04<00:00,  1.36it/s, Acc_drone=0.9658, Acc_satellite=0.9886, Acc_street=0.9929, Loss=9.4764]\n",
      "Epoach 82/180: 100%|██████████| 88/88 [01:04<00:00,  1.37it/s, Acc_drone=0.9601, Acc_satellite=0.9914, Acc_street=0.9929, Loss=9.1405]\n",
      "Epoach 83/180: 100%|██████████| 88/88 [01:04<00:00,  1.37it/s, Acc_drone=0.9629, Acc_satellite=0.9914, Acc_street=0.9914, Loss=9.1366]\n",
      "Epoach 84/180: 100%|██████████| 88/88 [01:04<00:00,  1.37it/s, Acc_drone=0.9700, Acc_satellite=0.9900, Acc_street=0.9900, Loss=8.9218]\n",
      "Epoach 85/180: 100%|██████████| 88/88 [01:03<00:00,  1.38it/s, Acc_drone=0.9715, Acc_satellite=0.9886, Acc_street=0.9929, Loss=8.7845]\n",
      "Epoach 86/180: 100%|██████████| 88/88 [01:04<00:00,  1.35it/s, Acc_drone=0.9700, Acc_satellite=0.9914, Acc_street=0.9929, Loss=8.9153]\n",
      "Epoach 87/180: 100%|██████████| 88/88 [01:04<00:00,  1.37it/s, Acc_drone=0.9715, Acc_satellite=0.9886, Acc_street=0.9900, Loss=8.6844]\n",
      "Epoach 88/180: 100%|██████████| 88/88 [01:04<00:00,  1.37it/s, Acc_drone=0.9658, Acc_satellite=0.9900, Acc_street=0.9914, Loss=9.0521]\n",
      "Epoach 89/180: 100%|██████████| 88/88 [01:04<00:00,  1.36it/s, Acc_drone=0.9586, Acc_satellite=0.9900, Acc_street=0.9900, Loss=8.4282]\n",
      "Epoach 90/180: 100%|██████████| 88/88 [01:04<00:00,  1.36it/s, Acc_drone=0.9715, Acc_satellite=0.9886, Acc_street=0.9914, Loss=8.8139]\n",
      "Epoach 91/180: 100%|██████████| 88/88 [01:04<00:00,  1.37it/s, Acc_drone=0.9786, Acc_satellite=0.9900, Acc_street=0.9900, Loss=8.4725]\n",
      "Epoach 92/180: 100%|██████████| 88/88 [01:04<00:00,  1.37it/s, Acc_drone=0.9629, Acc_satellite=0.9872, Acc_street=0.9914, Loss=8.8165]\n",
      "Epoach 93/180: 100%|██████████| 88/88 [01:04<00:00,  1.36it/s, Acc_drone=0.9672, Acc_satellite=0.9886, Acc_street=0.9900, Loss=8.8084]\n",
      "Epoach 94/180: 100%|██████████| 88/88 [01:04<00:00,  1.36it/s, Acc_drone=0.9757, Acc_satellite=0.9900, Acc_street=0.9914, Loss=8.5660]\n",
      "Epoach 95/180: 100%|██████████| 88/88 [01:04<00:00,  1.36it/s, Acc_drone=0.9629, Acc_satellite=0.9900, Acc_street=0.9900, Loss=8.5390]\n",
      "Epoach 96/180: 100%|██████████| 88/88 [01:04<00:00,  1.36it/s, Acc_drone=0.9686, Acc_satellite=0.9900, Acc_street=0.9914, Loss=8.5590]\n",
      "Epoach 97/180: 100%|██████████| 88/88 [01:04<00:00,  1.37it/s, Acc_drone=0.9700, Acc_satellite=0.9914, Acc_street=0.9929, Loss=8.5823]\n",
      "Epoach 98/180: 100%|██████████| 88/88 [01:04<00:00,  1.37it/s, Acc_drone=0.9700, Acc_satellite=0.9900, Acc_street=0.9914, Loss=8.0747]\n",
      "Epoach 99/180: 100%|██████████| 88/88 [01:04<00:00,  1.37it/s, Acc_drone=0.9700, Acc_satellite=0.9900, Acc_street=0.9929, Loss=8.3927]\n",
      "Epoach 100/180: 100%|██████████| 88/88 [01:04<00:00,  1.37it/s, Acc_drone=0.9715, Acc_satellite=0.9914, Acc_street=0.9929, Loss=8.3895]\n",
      "Epoach 101/180: 100%|██████████| 88/88 [01:03<00:00,  1.38it/s, Acc_drone=0.9786, Acc_satellite=0.9886, Acc_street=0.9914, Loss=8.0485]\n",
      "Epoach 102/180: 100%|██████████| 88/88 [01:04<00:00,  1.37it/s, Acc_drone=0.9686, Acc_satellite=0.9900, Acc_street=0.9929, Loss=8.5181]\n",
      "Epoach 103/180: 100%|██████████| 88/88 [01:04<00:00,  1.37it/s, Acc_drone=0.9643, Acc_satellite=0.9900, Acc_street=0.9929, Loss=8.6443]\n",
      "Epoach 104/180: 100%|██████████| 88/88 [01:04<00:00,  1.36it/s, Acc_drone=0.9743, Acc_satellite=0.9900, Acc_street=0.9914, Loss=8.3572]\n",
      "Epoach 105/180: 100%|██████████| 88/88 [01:04<00:00,  1.37it/s, Acc_drone=0.9715, Acc_satellite=0.9900, Acc_street=0.9886, Loss=8.3640]\n",
      "Epoach 106/180: 100%|██████████| 88/88 [01:04<00:00,  1.36it/s, Acc_drone=0.9700, Acc_satellite=0.9914, Acc_street=0.9900, Loss=8.4642]\n",
      "Epoach 107/180: 100%|██████████| 88/88 [01:04<00:00,  1.37it/s, Acc_drone=0.9672, Acc_satellite=0.9886, Acc_street=0.9914, Loss=8.2503]\n",
      "Epoach 108/180: 100%|██████████| 88/88 [01:04<00:00,  1.37it/s, Acc_drone=0.9743, Acc_satellite=0.9900, Acc_street=0.9900, Loss=7.7050]\n",
      "Epoach 109/180: 100%|██████████| 88/88 [01:04<00:00,  1.37it/s, Acc_drone=0.9601, Acc_satellite=0.9900, Acc_street=0.9900, Loss=7.9229]\n",
      "Epoach 110/180: 100%|██████████| 88/88 [01:04<00:00,  1.36it/s, Acc_drone=0.9757, Acc_satellite=0.9900, Acc_street=0.9872, Loss=8.0201]\n",
      "Epoach 111/180: 100%|██████████| 88/88 [01:04<00:00,  1.37it/s, Acc_drone=0.9658, Acc_satellite=0.9900, Acc_street=0.9929, Loss=8.0611]\n",
      "Epoach 112/180: 100%|██████████| 88/88 [01:04<00:00,  1.37it/s, Acc_drone=0.9715, Acc_satellite=0.9900, Acc_street=0.9929, Loss=8.0996]\n",
      "Epoach 113/180: 100%|██████████| 88/88 [01:04<00:00,  1.36it/s, Acc_drone=0.9729, Acc_satellite=0.9900, Acc_street=0.9914, Loss=8.1521]\n",
      "Epoach 114/180: 100%|██████████| 88/88 [01:04<00:00,  1.36it/s, Acc_drone=0.9743, Acc_satellite=0.9872, Acc_street=0.9929, Loss=8.2977]\n",
      "Epoach 115/180: 100%|██████████| 88/88 [01:04<00:00,  1.37it/s, Acc_drone=0.9686, Acc_satellite=0.9914, Acc_street=0.9914, Loss=8.0245]\n",
      "Epoach 116/180: 100%|██████████| 88/88 [01:04<00:00,  1.37it/s, Acc_drone=0.9700, Acc_satellite=0.9914, Acc_street=0.9914, Loss=8.2651]\n",
      "Epoach 117/180: 100%|██████████| 88/88 [01:04<00:00,  1.37it/s, Acc_drone=0.9757, Acc_satellite=0.9900, Acc_street=0.9914, Loss=7.9207]\n",
      "Epoach 118/180: 100%|██████████| 88/88 [01:04<00:00,  1.37it/s, Acc_drone=0.9686, Acc_satellite=0.9900, Acc_street=0.9900, Loss=7.6926]\n",
      "Epoach 119/180: 100%|██████████| 88/88 [01:04<00:00,  1.37it/s, Acc_drone=0.9629, Acc_satellite=0.9929, Acc_street=0.9929, Loss=8.2306]\n",
      "Epoach 120/180: 100%|██████████| 88/88 [01:04<00:00,  1.36it/s, Acc_drone=0.9686, Acc_satellite=0.9914, Acc_street=0.9929, Loss=7.6740]\n",
      "Epoach 121/180: 100%|██████████| 88/88 [01:04<00:00,  1.37it/s, Acc_drone=0.9643, Acc_satellite=0.9900, Acc_street=0.9929, Loss=7.6199]\n",
      "Epoach 122/180: 100%|██████████| 88/88 [01:04<00:00,  1.37it/s, Acc_drone=0.9700, Acc_satellite=0.9914, Acc_street=0.9900, Loss=7.7696]\n",
      "Epoach 123/180: 100%|██████████| 88/88 [01:04<00:00,  1.37it/s, Acc_drone=0.9658, Acc_satellite=0.9900, Acc_street=0.9929, Loss=7.8836]\n",
      "Epoach 124/180: 100%|██████████| 88/88 [01:04<00:00,  1.37it/s, Acc_drone=0.9686, Acc_satellite=0.9886, Acc_street=0.9914, Loss=8.1066]\n",
      "Epoach 125/180: 100%|██████████| 88/88 [01:04<00:00,  1.36it/s, Acc_drone=0.9743, Acc_satellite=0.9914, Acc_street=0.9914, Loss=7.7395]\n",
      "Epoach 126/180: 100%|██████████| 88/88 [01:04<00:00,  1.37it/s, Acc_drone=0.9715, Acc_satellite=0.9886, Acc_street=0.9929, Loss=7.7837]\n",
      "Epoach 127/180: 100%|██████████| 88/88 [01:04<00:00,  1.37it/s, Acc_drone=0.9658, Acc_satellite=0.9900, Acc_street=0.9900, Loss=7.9073]\n",
      "Epoach 128/180: 100%|██████████| 88/88 [01:04<00:00,  1.37it/s, Acc_drone=0.9686, Acc_satellite=0.9929, Acc_street=0.9914, Loss=7.6710]\n",
      "Epoach 129/180: 100%|██████████| 88/88 [01:04<00:00,  1.37it/s, Acc_drone=0.9700, Acc_satellite=0.9900, Acc_street=0.9886, Loss=7.6394]\n",
      "Epoach 130/180: 100%|██████████| 88/88 [01:04<00:00,  1.36it/s, Acc_drone=0.9772, Acc_satellite=0.9900, Acc_street=0.9929, Loss=7.7727]\n",
      "Epoach 131/180: 100%|██████████| 88/88 [01:04<00:00,  1.37it/s, Acc_drone=0.9658, Acc_satellite=0.9886, Acc_street=0.9929, Loss=8.0941]\n",
      "Epoach 132/180: 100%|██████████| 88/88 [01:04<00:00,  1.37it/s, Acc_drone=0.9686, Acc_satellite=0.9900, Acc_street=0.9929, Loss=7.9893]\n",
      "Epoach 133/180: 100%|██████████| 88/88 [01:04<00:00,  1.36it/s, Acc_drone=0.9743, Acc_satellite=0.9929, Acc_street=0.9900, Loss=7.4716]\n",
      "Epoach 134/180: 100%|██████████| 88/88 [01:04<00:00,  1.36it/s, Acc_drone=0.9715, Acc_satellite=0.9914, Acc_street=0.9914, Loss=7.6294]\n",
      "Epoach 135/180: 100%|██████████| 88/88 [01:04<00:00,  1.36it/s, Acc_drone=0.9743, Acc_satellite=0.9886, Acc_street=0.9929, Loss=7.4641]\n",
      "Epoach 136/180: 100%|██████████| 88/88 [01:04<00:00,  1.37it/s, Acc_drone=0.9686, Acc_satellite=0.9914, Acc_street=0.9929, Loss=7.5166]\n",
      "Epoach 137/180: 100%|██████████| 88/88 [01:04<00:00,  1.36it/s, Acc_drone=0.9715, Acc_satellite=0.9900, Acc_street=0.9914, Loss=7.4980]\n",
      "Epoach 138/180: 100%|██████████| 88/88 [01:04<00:00,  1.36it/s, Acc_drone=0.9715, Acc_satellite=0.9900, Acc_street=0.9914, Loss=7.4850]\n",
      "Epoach 139/180: 100%|██████████| 88/88 [01:04<00:00,  1.37it/s, Acc_drone=0.9700, Acc_satellite=0.9914, Acc_street=0.9900, Loss=7.4696]\n",
      "Epoach 140/180: 100%|██████████| 88/88 [01:04<00:00,  1.37it/s, Acc_drone=0.9700, Acc_satellite=0.9872, Acc_street=0.9929, Loss=7.2699]\n",
      "Epoach 141/180: 100%|██████████| 88/88 [01:04<00:00,  1.37it/s, Acc_drone=0.9715, Acc_satellite=0.9886, Acc_street=0.9929, Loss=7.6530]\n",
      "Epoach 142/180: 100%|██████████| 88/88 [01:04<00:00,  1.37it/s, Acc_drone=0.9872, Acc_satellite=0.9886, Acc_street=0.9929, Loss=7.3816]\n",
      "Epoach 143/180: 100%|██████████| 88/88 [01:04<00:00,  1.37it/s, Acc_drone=0.9843, Acc_satellite=0.9900, Acc_street=0.9929, Loss=7.2390]\n",
      "Epoach 144/180: 100%|██████████| 88/88 [01:03<00:00,  1.38it/s, Acc_drone=0.9757, Acc_satellite=0.9900, Acc_street=0.9929, Loss=7.1779]\n",
      "Epoach 145/180: 100%|██████████| 88/88 [01:04<00:00,  1.37it/s, Acc_drone=0.9757, Acc_satellite=0.9900, Acc_street=0.9914, Loss=7.5988]\n",
      "Epoach 146/180: 100%|██████████| 88/88 [01:03<00:00,  1.38it/s, Acc_drone=0.9672, Acc_satellite=0.9886, Acc_street=0.9929, Loss=7.9120]\n",
      "Epoach 147/180: 100%|██████████| 88/88 [01:04<00:00,  1.36it/s, Acc_drone=0.9700, Acc_satellite=0.9900, Acc_street=0.9914, Loss=7.4715]\n",
      "Epoach 148/180: 100%|██████████| 88/88 [01:04<00:00,  1.37it/s, Acc_drone=0.9729, Acc_satellite=0.9886, Acc_street=0.9914, Loss=7.7734]\n",
      "Epoach 149/180: 100%|██████████| 88/88 [01:04<00:00,  1.36it/s, Acc_drone=0.9857, Acc_satellite=0.9886, Acc_street=0.9929, Loss=7.3291]\n",
      "Epoach 150/180: 100%|██████████| 88/88 [01:04<00:00,  1.36it/s, Acc_drone=0.9786, Acc_satellite=0.9900, Acc_street=0.9929, Loss=7.3162]\n",
      "Epoach 151/180: 100%|██████████| 88/88 [01:04<00:00,  1.37it/s, Acc_drone=0.9800, Acc_satellite=0.9900, Acc_street=0.9914, Loss=7.1169]\n",
      "Epoach 152/180: 100%|██████████| 88/88 [01:04<00:00,  1.37it/s, Acc_drone=0.9757, Acc_satellite=0.9914, Acc_street=0.9914, Loss=7.2649]\n",
      "Epoach 153/180: 100%|██████████| 88/88 [01:04<00:00,  1.36it/s, Acc_drone=0.9672, Acc_satellite=0.9886, Acc_street=0.9914, Loss=7.8173]\n",
      "Epoach 154/180: 100%|██████████| 88/88 [01:04<00:00,  1.36it/s, Acc_drone=0.9743, Acc_satellite=0.9914, Acc_street=0.9914, Loss=7.2723]\n",
      "Epoach 155/180: 100%|██████████| 88/88 [01:04<00:00,  1.36it/s, Acc_drone=0.9772, Acc_satellite=0.9900, Acc_street=0.9929, Loss=7.0805]\n",
      "Epoach 156/180: 100%|██████████| 88/88 [01:04<00:00,  1.36it/s, Acc_drone=0.9815, Acc_satellite=0.9914, Acc_street=0.9929, Loss=7.1586]\n",
      "Epoach 157/180: 100%|██████████| 88/88 [01:04<00:00,  1.36it/s, Acc_drone=0.9743, Acc_satellite=0.9900, Acc_street=0.9929, Loss=7.1813]\n",
      "Epoach 158/180: 100%|██████████| 88/88 [01:04<00:00,  1.36it/s, Acc_drone=0.9729, Acc_satellite=0.9872, Acc_street=0.9914, Loss=7.4869]\n",
      "Epoach 159/180: 100%|██████████| 88/88 [01:04<00:00,  1.37it/s, Acc_drone=0.9743, Acc_satellite=0.9914, Acc_street=0.9929, Loss=7.0039]\n",
      "Epoach 160/180: 100%|██████████| 88/88 [01:04<00:00,  1.36it/s, Acc_drone=0.9715, Acc_satellite=0.9900, Acc_street=0.9929, Loss=7.0196]\n",
      "Epoach 161/180: 100%|██████████| 88/88 [01:04<00:00,  1.36it/s, Acc_drone=0.9715, Acc_satellite=0.9900, Acc_street=0.9929, Loss=7.1103]\n",
      "Epoach 162/180: 100%|██████████| 88/88 [01:04<00:00,  1.36it/s, Acc_drone=0.9743, Acc_satellite=0.9900, Acc_street=0.9929, Loss=6.7958]\n",
      "Epoach 163/180: 100%|██████████| 88/88 [01:04<00:00,  1.36it/s, Acc_drone=0.9686, Acc_satellite=0.9900, Acc_street=0.9929, Loss=7.2501]\n",
      "Epoach 164/180: 100%|██████████| 88/88 [01:04<00:00,  1.37it/s, Acc_drone=0.9800, Acc_satellite=0.9900, Acc_street=0.9929, Loss=7.0673]\n",
      "Epoach 165/180: 100%|██████████| 88/88 [01:04<00:00,  1.36it/s, Acc_drone=0.9815, Acc_satellite=0.9914, Acc_street=0.9914, Loss=7.0204]\n",
      "Epoach 166/180: 100%|██████████| 88/88 [01:04<00:00,  1.36it/s, Acc_drone=0.9686, Acc_satellite=0.9900, Acc_street=0.9929, Loss=7.1386]\n",
      "Epoach 167/180: 100%|██████████| 88/88 [01:04<00:00,  1.37it/s, Acc_drone=0.9615, Acc_satellite=0.9914, Acc_street=0.9886, Loss=7.4113]\n",
      "Epoach 168/180: 100%|██████████| 88/88 [01:04<00:00,  1.36it/s, Acc_drone=0.9715, Acc_satellite=0.9900, Acc_street=0.9929, Loss=7.1906]\n",
      "Epoach 169/180: 100%|██████████| 88/88 [01:04<00:00,  1.36it/s, Acc_drone=0.9715, Acc_satellite=0.9886, Acc_street=0.9929, Loss=7.2715]\n",
      "Epoach 170/180: 100%|██████████| 88/88 [01:04<00:00,  1.36it/s, Acc_drone=0.9800, Acc_satellite=0.9886, Acc_street=0.9929, Loss=7.0536]\n",
      "Epoach 171/180: 100%|██████████| 88/88 [01:04<00:00,  1.36it/s, Acc_drone=0.9686, Acc_satellite=0.9900, Acc_street=0.9929, Loss=7.3096]\n",
      "Epoach 172/180: 100%|██████████| 88/88 [01:04<00:00,  1.37it/s, Acc_drone=0.9757, Acc_satellite=0.9886, Acc_street=0.9929, Loss=7.3850]\n",
      "Epoach 173/180: 100%|██████████| 88/88 [01:04<00:00,  1.37it/s, Acc_drone=0.9786, Acc_satellite=0.9900, Acc_street=0.9929, Loss=7.0455]\n",
      "Epoach 174/180: 100%|██████████| 88/88 [01:04<00:00,  1.36it/s, Acc_drone=0.9815, Acc_satellite=0.9900, Acc_street=0.9929, Loss=7.0830]\n",
      "Epoach 175/180: 100%|██████████| 88/88 [01:04<00:00,  1.35it/s, Acc_drone=0.9729, Acc_satellite=0.9872, Acc_street=0.9900, Loss=7.1243]\n",
      "Epoach 176/180: 100%|██████████| 88/88 [01:04<00:00,  1.36it/s, Acc_drone=0.9786, Acc_satellite=0.9900, Acc_street=0.9900, Loss=6.7131]\n",
      "Epoach 177/180: 100%|██████████| 88/88 [01:04<00:00,  1.35it/s, Acc_drone=0.9686, Acc_satellite=0.9929, Acc_street=0.9914, Loss=7.1836]\n",
      "Epoach 178/180: 100%|██████████| 88/88 [01:04<00:00,  1.37it/s, Acc_drone=0.9815, Acc_satellite=0.9929, Acc_street=0.9929, Loss=7.0185]\n",
      "Epoach 179/180: 100%|██████████| 88/88 [01:04<00:00,  1.36it/s, Acc_drone=0.9815, Acc_satellite=0.9886, Acc_street=0.9914, Loss=6.9128]\n",
      "Epoach 180/180: 100%|██████████| 88/88 [01:04<00:00,  1.36it/s, Acc_drone=0.9786, Acc_satellite=0.9886, Acc_street=0.9914, Loss=6.9995]\n"
     ]
    }
   ],
   "source": [
    "baseline_w = Model(checkpoint_interval=10, num_epochs=180, name='LPNw')\n",
    "baseline_w.train(dataset='University-Release-wx')"
   ]
  },
  {
   "cell_type": "code",
   "execution_count": 10,
   "metadata": {},
   "outputs": [
    {
     "name": "stdout",
     "output_type": "stream",
     "text": [
      "{'loss': {'train': [inf, 116.7381790313503, 114.39357253658278, 111.88494960115571, 109.19297540204842, 106.22988181991686, 103.30279514895017, 100.00705343510387, 96.65187131525276, 93.27325517814951, 89.84474214779668, 86.11985006073913, 82.6913538346447, 79.89092817320123, 76.90880659813547, 73.63943773125446, 69.73842456507445, 67.24195132616073, 63.79460803588345, 61.138780841473675, 58.42393439234409, 56.30603980745977, 53.248888350417374, 51.16813465940119, 48.66778446910385, 47.06271976138998, 44.73154126220355, 42.72132161748562, 40.6876929877658, 39.80262188224412, 38.027024512624266, 36.412768071456235, 35.29754529836004, 33.78557502866302, 31.9652971167027, 31.063741512543466, 30.0921748619787, 28.69042931745804, 27.954435688622837, 27.226457647522235, 25.907848385363266, 25.77439971793225, 24.411474622435303, 23.38094335275778, 22.626671131259194, 22.069943274308883, 21.480846236333697, 20.935478145147698, 19.556567454644174, 19.378173283945646, 18.514332682872126, 17.960570331306837, 17.313421175925434, 17.18879070635699, 17.090472734263553, 16.670859256586574, 15.328420228182674, 15.305572662135845, 15.11368844852638, 15.216034055266332, 14.201445009500937, 14.08175683123579, 13.134951435040135, 13.103869265394442, 13.091826696028553, 13.204065777265736, 12.365915910663686, 12.281168209843221, 11.347007843975334, 11.698949337685839, 11.21712804622895, 11.238465487361804, 10.953624132186302, 10.522394814266798, 10.372988256000077, 10.187970682489718, 9.947038201564729, 9.720407836957596, 9.459573922585829, 9.182934220949356, 9.476352512071204, 9.140540390994172, 9.136586476324629, 8.921797938761799, 8.784468641294733, 8.915320174670253, 8.6844107210211, 9.052131070560124, 8.428162421037399, 8.813856775172257, 8.47251705980505, 8.816523177817613, 8.808387288353412, 8.5659941048833, 8.538985955732185, 8.559035003270301, 8.582319757567662, 8.074746745459194, 8.392680376300458, 8.389549304347236, 8.04849680140083, 8.518089490338161, 8.644285237398025, 8.357244363695001, 8.363965680697845, 8.464182969336843, 8.250269469452993, 7.704998146960467, 7.922895891350108, 8.020062254771016, 8.061132831002098, 8.09955263886064, 8.15212615988564, 8.297671841826826, 8.02446320189559, 8.2651021415939, 7.920746698529166, 7.692602671842262, 8.23057951226554, 7.67401241677974, 7.619924684053821, 7.769578724206769, 7.883585457795016, 8.106645412689948, 7.739492179663817, 7.783739789236289, 7.907339468832193, 7.670951582055629, 7.639407627252641, 7.772746337803556, 8.094117631245611, 7.9893043343929016, 7.471577398106987, 7.629407145327407, 7.4641208839144415, 7.516573722284292, 7.497985423546544, 7.484986548757077, 7.469648249649287, 7.269892840854792, 7.65302638490598, 7.381599867054807, 7.238978844396398, 7.1778755677749695, 7.598784192312461, 7.911958626435589, 7.47145959960241, 7.773412761606606, 7.329108854503333, 7.316235285172619, 7.116921336436578, 7.264870484443262, 7.81727372358597, 7.2722802808383396, 7.080484314073679, 7.158635399310973, 7.1812853275794275, 7.486868772629154, 7.003859189369539, 7.01956636589366, 7.1102740577556265, 6.7957547142910375, 7.250129283409826, 7.067271293825158, 7.020433874851286, 7.138572118761876, 7.411332869155601, 7.190599705455306, 7.271484870203212, 7.053647377351552, 7.309567526301712, 7.384968429761334, 7.045479952693836, 7.0830158010529045, 7.124336803180515, 6.713088262778376, 7.183646295958341, 7.018472285141448, 6.912820266418892, 6.999492590845737, 7.045404649154946], 'val': [inf]}, 'error': {'train': {'satellite': [0, 0.005706134094151213, 0.14693295292439373, 0.2524964336661912, 0.362339514978602, 0.4479315263908702, 0.4550641940085592, 0.5292439372325249, 0.6005706134094151, 0.6975748930099858, 0.7318116975748931, 0.7646219686162625, 0.8430813124108416, 0.8773181169757489, 0.9172610556348074, 0.9457917261055635, 0.9443651925820257, 0.9714693295292439, 0.9700427960057061, 0.9814550641940085, 0.9843081312410842, 0.9843081312410842, 0.985734664764622, 0.9843081312410842, 0.9885877318116976, 0.9885877318116976, 0.9885877318116976, 0.9885877318116976, 0.985734664764622, 0.9885877318116976, 0.9871611982881597, 0.9885877318116976, 0.9871611982881597, 0.9900142653352354, 0.9885877318116976, 0.9871611982881597, 0.9900142653352354, 0.9885877318116976, 0.9885877318116976, 0.9885877318116976, 0.9871611982881597, 0.9885877318116976, 0.9871611982881597, 0.9871611982881597, 0.9871611982881597, 0.9885877318116976, 0.9900142653352354, 0.9885877318116976, 0.9871611982881597, 0.9871611982881597, 0.9871611982881597, 0.9900142653352354, 0.9900142653352354, 0.9900142653352354, 0.9885877318116976, 0.9900142653352354, 0.9900142653352354, 0.9900142653352354, 0.9885877318116976, 0.9900142653352354, 0.9900142653352354, 0.9900142653352354, 0.9900142653352354, 0.9914407988587732, 0.9885877318116976, 0.9900142653352354, 0.9900142653352354, 0.9885877318116976, 0.9900142653352354, 0.9885877318116976, 0.9871611982881597, 0.9871611982881597, 0.9871611982881597, 0.9900142653352354, 0.9885877318116976, 0.9914407988587732, 0.9914407988587732, 0.9900142653352354, 0.9900142653352354, 0.9900142653352354, 0.9885877318116976, 0.9914407988587732, 0.9914407988587732, 0.9900142653352354, 0.9885877318116976, 0.9914407988587732, 0.9885877318116976, 0.9900142653352354, 0.9900142653352354, 0.9885877318116976, 0.9900142653352354, 0.9871611982881597, 0.9885877318116976, 0.9900142653352354, 0.9900142653352354, 0.9900142653352354, 0.9914407988587732, 0.9900142653352354, 0.9900142653352354, 0.9914407988587732, 0.9885877318116976, 0.9900142653352354, 0.9900142653352354, 0.9900142653352354, 0.9900142653352354, 0.9914407988587732, 0.9885877318116976, 0.9900142653352354, 0.9900142653352354, 0.9900142653352354, 0.9900142653352354, 0.9900142653352354, 0.9900142653352354, 0.9871611982881597, 0.9914407988587732, 0.9914407988587732, 0.9900142653352354, 0.9900142653352354, 0.992867332382311, 0.9914407988587732, 0.9900142653352354, 0.9914407988587732, 0.9900142653352354, 0.9885877318116976, 0.9914407988587732, 0.9885877318116976, 0.9900142653352354, 0.992867332382311, 0.9900142653352354, 0.9900142653352354, 0.9885877318116976, 0.9900142653352354, 0.992867332382311, 0.9914407988587732, 0.9885877318116976, 0.9914407988587732, 0.9900142653352354, 0.9900142653352354, 0.9914407988587732, 0.9871611982881597, 0.9885877318116976, 0.9885877318116976, 0.9900142653352354, 0.9900142653352354, 0.9900142653352354, 0.9885877318116976, 0.9900142653352354, 0.9885877318116976, 0.9885877318116976, 0.9900142653352354, 0.9900142653352354, 0.9914407988587732, 0.9885877318116976, 0.9914407988587732, 0.9900142653352354, 0.9914407988587732, 0.9900142653352354, 0.9871611982881597, 0.9914407988587732, 0.9900142653352354, 0.9900142653352354, 0.9900142653352354, 0.9900142653352354, 0.9900142653352354, 0.9914407988587732, 0.9900142653352354, 0.9914407988587732, 0.9900142653352354, 0.9885877318116976, 0.9885877318116976, 0.9900142653352354, 0.9885877318116976, 0.9900142653352354, 0.9900142653352354, 0.9871611982881597, 0.9900142653352354, 0.992867332382311, 0.992867332382311, 0.9885877318116976, 0.9885877318116976, 0.9900142653352354], 'street': [0, 0.029957203994293864, 0.19686162624821682, 0.2268188302425107, 0.24679029957203993, 0.2653352353780314, 0.25677603423680456, 0.2396576319543509, 0.29386590584878747, 0.2995720399429387, 0.31098430813124106, 0.3537803138373752, 0.362339514978602, 0.4037089871611983, 0.42938659058487877, 0.44079885877318115, 0.4793152639087018, 0.49072753209700426, 0.5520684736091298, 0.5649072753209701, 0.6276747503566333, 0.609129814550642, 0.6562054208273894, 0.666191155492154, 0.6776034236804565, 0.6890156918687589, 0.7446504992867332, 0.7646219686162625, 0.7589158345221113, 0.7788873038516405, 0.818830242510699, 0.8216833095577746, 0.8445078459343794, 0.8388017118402282, 0.8830242510699001, 0.8873038516405135, 0.8559201141226819, 0.8858773181169758, 0.9029957203994294, 0.9186875891583453, 0.920114122681883, 0.927246790299572, 0.9372325249643366, 0.9457917261055635, 0.9429386590584878, 0.9514978601997147, 0.948644793152639, 0.9543509272467903, 0.9614835948644793, 0.9629101283880172, 0.9657631954350927, 0.9743223965763196, 0.9800285306704708, 0.9757489300998573, 0.9771754636233951, 0.9771754636233951, 0.9814550641940085, 0.9743223965763196, 0.985734664764622, 0.9771754636233951, 0.9843081312410842, 0.9828815977175464, 0.9828815977175464, 0.9885877318116976, 0.985734664764622, 0.9900142653352354, 0.9885877318116976, 0.9914407988587732, 0.9885877318116976, 0.9814550641940085, 0.992867332382311, 0.9900142653352354, 0.992867332382311, 0.9871611982881597, 0.992867332382311, 0.9914407988587732, 0.9900142653352354, 0.992867332382311, 0.9914407988587732, 0.9914407988587732, 0.992867332382311, 0.992867332382311, 0.9914407988587732, 0.9900142653352354, 0.992867332382311, 0.992867332382311, 0.9900142653352354, 0.9914407988587732, 0.9900142653352354, 0.9914407988587732, 0.9900142653352354, 0.9914407988587732, 0.9900142653352354, 0.9914407988587732, 0.9900142653352354, 0.9914407988587732, 0.992867332382311, 0.9914407988587732, 0.992867332382311, 0.992867332382311, 0.9914407988587732, 0.992867332382311, 0.992867332382311, 0.9914407988587732, 0.9885877318116976, 0.9900142653352354, 0.9914407988587732, 0.9900142653352354, 0.9900142653352354, 0.9871611982881597, 0.992867332382311, 0.992867332382311, 0.9914407988587732, 0.992867332382311, 0.9914407988587732, 0.9914407988587732, 0.9914407988587732, 0.9900142653352354, 0.992867332382311, 0.992867332382311, 0.992867332382311, 0.9900142653352354, 0.992867332382311, 0.9914407988587732, 0.9914407988587732, 0.992867332382311, 0.9900142653352354, 0.9914407988587732, 0.9885877318116976, 0.992867332382311, 0.992867332382311, 0.992867332382311, 0.9900142653352354, 0.9914407988587732, 0.992867332382311, 0.992867332382311, 0.9914407988587732, 0.9914407988587732, 0.9900142653352354, 0.992867332382311, 0.992867332382311, 0.992867332382311, 0.992867332382311, 0.992867332382311, 0.9914407988587732, 0.992867332382311, 0.9914407988587732, 0.9914407988587732, 0.992867332382311, 0.992867332382311, 0.9914407988587732, 0.9914407988587732, 0.9914407988587732, 0.9914407988587732, 0.992867332382311, 0.992867332382311, 0.992867332382311, 0.9914407988587732, 0.992867332382311, 0.992867332382311, 0.992867332382311, 0.992867332382311, 0.992867332382311, 0.992867332382311, 0.9914407988587732, 0.992867332382311, 0.9885877318116976, 0.992867332382311, 0.992867332382311, 0.992867332382311, 0.992867332382311, 0.992867332382311, 0.992867332382311, 0.992867332382311, 0.9900142653352354, 0.9900142653352354, 0.9914407988587732, 0.992867332382311, 0.9914407988587732, 0.9914407988587732, 0.9914407988587732], 'drone': [0, 0.014265335235378032, 0.03566333808844508, 0.06562054208273894, 0.06990014265335236, 0.0884450784593438, 0.07275320970042796, 0.10271041369472182, 0.12410841654778887, 0.15121255349500715, 0.18972895863052783, 0.20542082738944364, 0.2553495007132668, 0.30099857346647646, 0.32667617689015693, 0.369472182596291, 0.4122681883024251, 0.4479315263908702, 0.5049928673323824, 0.5178316690442225, 0.5663338088445078, 0.5877318116975749, 0.6034236804564908, 0.6348074179743224, 0.6990014265335235, 0.6861626248216833, 0.724679029957204, 0.7203994293865906, 0.7375178316690443, 0.7689015691868759, 0.7917261055634808, 0.7674750356633381, 0.8074179743223966, 0.8288159771754636, 0.8302425106990015, 0.8174037089871612, 0.8316690442225392, 0.8530670470756063, 0.8373751783166904, 0.8502139800285307, 0.8573466476462197, 0.8502139800285307, 0.8701854493580599, 0.8815977175463623, 0.9015691868758916, 0.8958630527817404, 0.8901569186875892, 0.9186875891583453, 0.9158345221112696, 0.912981455064194, 0.9101283880171184, 0.9358059914407989, 0.9343794579172611, 0.9358059914407989, 0.9372325249643366, 0.9358059914407989, 0.948644793152639, 0.9300998573466477, 0.920114122681883, 0.9286733238231099, 0.9529243937232525, 0.9358059914407989, 0.948644793152639, 0.9400855920114123, 0.9329529243937232, 0.9429386590584878, 0.9457917261055635, 0.9586305278174037, 0.9457917261055635, 0.9586305278174037, 0.9572039942938659, 0.9457917261055635, 0.9543509272467903, 0.9629101283880172, 0.9629101283880172, 0.9743223965763196, 0.9600570613409415, 0.9514978601997147, 0.9572039942938659, 0.9686162624821684, 0.9657631954350927, 0.9600570613409415, 0.9629101283880172, 0.9700427960057061, 0.9714693295292439, 0.9700427960057061, 0.9714693295292439, 0.9657631954350927, 0.9586305278174037, 0.9714693295292439, 0.978601997146933, 0.9629101283880172, 0.9671897289586305, 0.9757489300998573, 0.9629101283880172, 0.9686162624821684, 0.9700427960057061, 0.9700427960057061, 0.9700427960057061, 0.9714693295292439, 0.978601997146933, 0.9686162624821684, 0.9643366619115549, 0.9743223965763196, 0.9714693295292439, 0.9700427960057061, 0.9671897289586305, 0.9743223965763196, 0.9600570613409415, 0.9757489300998573, 0.9657631954350927, 0.9714693295292439, 0.9728958630527818, 0.9743223965763196, 0.9686162624821684, 0.9700427960057061, 0.9757489300998573, 0.9686162624821684, 0.9629101283880172, 0.9686162624821684, 0.9643366619115549, 0.9700427960057061, 0.9657631954350927, 0.9686162624821684, 0.9743223965763196, 0.9714693295292439, 0.9657631954350927, 0.9686162624821684, 0.9700427960057061, 0.9771754636233951, 0.9657631954350927, 0.9686162624821684, 0.9743223965763196, 0.9714693295292439, 0.9743223965763196, 0.9686162624821684, 0.9714693295292439, 0.9714693295292439, 0.9700427960057061, 0.9700427960057061, 0.9714693295292439, 0.9871611982881597, 0.9843081312410842, 0.9757489300998573, 0.9757489300998573, 0.9671897289586305, 0.9700427960057061, 0.9728958630527818, 0.985734664764622, 0.978601997146933, 0.9800285306704708, 0.9757489300998573, 0.9671897289586305, 0.9743223965763196, 0.9771754636233951, 0.9814550641940085, 0.9743223965763196, 0.9728958630527818, 0.9743223965763196, 0.9714693295292439, 0.9714693295292439, 0.9743223965763196, 0.9686162624821684, 0.9800285306704708, 0.9814550641940085, 0.9686162624821684, 0.9614835948644793, 0.9714693295292439, 0.9714693295292439, 0.9800285306704708, 0.9686162624821684, 0.9757489300998573, 0.978601997146933, 0.9814550641940085, 0.9728958630527818, 0.978601997146933, 0.9686162624821684, 0.9814550641940085, 0.9814550641940085, 0.978601997146933, 0.978601997146933]}, 'val': {'satellite': [0], 'street': [0], 'drone': [0]}}}\n"
     ]
    }
   ],
   "source": [
    "print(baseline_w.train_info)"
   ]
  },
  {
   "cell_type": "code",
   "execution_count": 12,
   "metadata": {},
   "outputs": [
    {
     "data": {
      "image/png": "[encoded data removed]",
      "text/plain": [
       "<Figure size 600x300 with 2 Axes>"
      ]
     },
     "metadata": {},
     "output_type": "display_data"
    }
   ],
   "source": [
    "visualize_train_info(baseline_w)"
   ]
  },
  {
   "cell_type": "code",
   "execution_count": 13,
   "metadata": {},
   "outputs": [
    {
     "name": "stdout",
     "output_type": "stream",
     "text": [
      "load model: net_060.pth\n"
     ]
    },
    {
     "name": "stderr",
     "output_type": "stream",
     "text": [
      "Extract drone feature: 100%|██████████| 125/125 [00:33<00:00,  3.76it/s]\n",
      "Extract satellite feature: 100%|██████████| 8/8 [00:29<00:00,  3.70s/it]\n",
      "Evaluate metrics: 100%|██████████| 1000/1000 [00:00<00:00, 2085.16it/s]"
     ]
    },
    {
     "name": "stdout",
     "output_type": "stream",
     "text": [
      "Recall@1: 73.10 \n",
      "Recall@5: 85.60 \n",
      "Recall@10: 89.70 \n",
      "Recall@top1: 90.10 \n",
      "AP: 76.04\n"
     ]
    },
    {
     "name": "stderr",
     "output_type": "stream",
     "text": [
      "\n"
     ]
    }
   ],
   "source": [
    "baseline_w.test(dataset='University-Release-wx', test_num=1000, pth='net_060')\n",
    "baseline_w.metrics()"
   ]
  },
  {
   "cell_type": "code",
   "execution_count": 14,
   "metadata": {},
   "outputs": [
    {
     "name": "stdout",
     "output_type": "stream",
     "text": [
      "load model: net_120.pth\n"
     ]
    },
    {
     "name": "stderr",
     "output_type": "stream",
     "text": [
      "Extract drone feature: 100%|██████████| 125/125 [00:28<00:00,  4.35it/s]\n",
      "Extract satellite feature: 100%|██████████| 8/8 [00:30<00:00,  3.79s/it]\n",
      "Evaluate metrics: 100%|██████████| 1000/1000 [00:00<00:00, 2176.41it/s]"
     ]
    },
    {
     "name": "stdout",
     "output_type": "stream",
     "text": [
      "Recall@1: 76.70 \n",
      "Recall@5: 87.30 \n",
      "Recall@10: 91.30 \n",
      "Recall@top1: 91.70 \n",
      "AP: 79.30\n"
     ]
    },
    {
     "name": "stderr",
     "output_type": "stream",
     "text": [
      "\n"
     ]
    }
   ],
   "source": [
    "baseline_w.test(dataset='University-Release-wx', test_num=1000, pth='net_120')\n",
    "baseline_w.metrics()"
   ]
  },
  {
   "cell_type": "code",
   "execution_count": 15,
   "metadata": {},
   "outputs": [
    {
     "name": "stdout",
     "output_type": "stream",
     "text": [
      "load model: net_180.pth\n"
     ]
    },
    {
     "name": "stderr",
     "output_type": "stream",
     "text": [
      "Extract drone feature: 100%|██████████| 125/125 [00:29<00:00,  4.31it/s]\n",
      "Extract satellite feature: 100%|██████████| 8/8 [00:30<00:00,  3.78s/it]\n",
      "Evaluate metrics: 100%|██████████| 1000/1000 [00:00<00:00, 2114.54it/s]"
     ]
    },
    {
     "name": "stdout",
     "output_type": "stream",
     "text": [
      "Recall@1: 78.70 \n",
      "Recall@5: 89.50 \n",
      "Recall@10: 93.20 \n",
      "Recall@top1: 93.60 \n",
      "AP: 81.14\n"
     ]
    },
    {
     "name": "stderr",
     "output_type": "stream",
     "text": [
      "\n"
     ]
    }
   ],
   "source": [
    "baseline_w.test(dataset='University-Release-wx', test_num=1000, pth='net_180')\n",
    "baseline_w.metrics()"
   ]
  },
  {
   "cell_type": "markdown",
   "metadata": {},
   "source": [
    "Conclusion: use domain data to train can improve performance\n",
    "\n",
    "What about performance of regular data?"
   ]
  },
  {
   "cell_type": "code",
   "execution_count": 16,
   "metadata": {},
   "outputs": [
    {
     "name": "stdout",
     "output_type": "stream",
     "text": [
      "load model: net_180.pth\n"
     ]
    },
    {
     "name": "stderr",
     "output_type": "stream",
     "text": [
      "Extract drone feature: 100%|██████████| 125/125 [00:28<00:00,  4.33it/s]\n",
      "Extract satellite feature: 100%|██████████| 8/8 [00:29<00:00,  3.64s/it]\n",
      "Evaluate metrics: 100%|██████████| 1000/1000 [00:00<00:00, 2189.46it/s]"
     ]
    },
    {
     "name": "stdout",
     "output_type": "stream",
     "text": [
      "Recall@1: 85.90 \n",
      "Recall@5: 95.10 \n",
      "Recall@10: 96.90 \n",
      "Recall@top1: 97.10 \n",
      "AP: 87.90\n"
     ]
    },
    {
     "name": "stderr",
     "output_type": "stream",
     "text": [
      "\n"
     ]
    }
   ],
   "source": [
    "baseline_w.test(dataset='University-Release', test_num=1000, pth='net_180')\n",
    "baseline_w.metrics()"
   ]
  },
  {
   "cell_type": "markdown",
   "metadata": {},
   "source": [
    "# Competition\n",
    "\n"
   ]
  },
  {
   "cell_type": "code",
   "execution_count": 38,
   "metadata": {},
   "outputs": [],
   "source": [
    "import tarfile\n",
    "import zipfile \n",
    "from LPN.image_folder_ import CustomData160k_drone, CustomData160k_sat\n",
    "\n",
    "def get_SatId_160k(img_path):\n",
    "    labels = []\n",
    "    paths = []\n",
    "    for path,v in img_path:\n",
    "        labels.append(v)\n",
    "        paths.append(path)\n",
    "    return labels, paths\n",
    "\n",
    "def get_result_rank10(qf,gf,gl):\n",
    "    query = qf.view(-1,1)\n",
    "    score = torch.mm(gf, query)\n",
    "    score = score.squeeze(1).cpu()\n",
    "    score = score.numpy()\n",
    "    index = np.argsort(score)\n",
    "    index = index[::-1]\n",
    "    rank10_index = index[0:10]\n",
    "    result_rank10 = gl[rank10_index]\n",
    "    return result_rank10\n",
    "\n",
    "def get_competition_submit(instance, data160k_dir='D://dataset/university-160k-wx', save_file = 'answer.txt', pth=None, multiple_scale=[1]):\n",
    "    # a part of test set of UAVM'24 competition is provided as tar file\n",
    "    if not os.path.exists(os.path.join(data160k_dir, 'gallery_satellite_160k')):\n",
    "        tar_file = os.path.join(data160k_dir, 'gallery_satellite_160k.tar.gz')\n",
    "        if os.path.isfile(tar_file):\n",
    "            print('Found dataset tar file. Extracting...')\n",
    "            with tarfile.open(tar_file, 'r:gz') as tar:\n",
    "                tar.extractall(path=data160k_dir)\n",
    "            print('Extract done')\n",
    "    else:\n",
    "        print('Found dataset')\n",
    "\n",
    "    query_name = os.path.join(data160k_dir, 'query_drone_name.txt')\n",
    "    if os.path.isfile(save_file):\n",
    "        os.remove(save_file) \n",
    "        os.remove('answer.zip')\n",
    "    results_rank10 = [] \n",
    "\n",
    "    data_transforms = transforms.Compose([\n",
    "        transforms.Resize((384, 384), interpolation=InterpolationMode.BICUBIC),\n",
    "        transforms.ToTensor(),\n",
    "        transforms.Normalize([0.485, 0.456, 0.406], [0.229, 0.224, 0.225])\n",
    "    ])\n",
    "\n",
    "    image_datasets = {}\n",
    "    image_datasets['gallery_satellite_160k'] = CustomData160k_sat(os.path.join(data160k_dir, 'gallery_satellite_160k'), data_transforms)\n",
    "    image_datasets['query_drone_160k'] = CustomData160k_drone( os.path.join(data160k_dir, 'query_drone160k_wx') ,data_transforms, query_name = query_name)\n",
    "\n",
    "    dataloaders = {x: torch.utils.data.DataLoader(image_datasets[x], batch_size=instance.batchsize,\n",
    "                                                    shuffle=False, num_workers=16) for x in\n",
    "                    ['gallery_satellite_160k','query_drone_160k']}\n",
    "    \n",
    "    gallery_path = image_datasets['gallery_satellite_160k'].imgs\n",
    "    gallery_label, gallery_path  = get_SatId_160k(gallery_path)\n",
    "    \n",
    "    # load model\n",
    "    files = os.listdir(os.path.join(os.getcwd(), instance.pardir, instance.name))\n",
    "    if pth==None:\n",
    "        model_file = files[-1]\n",
    "    else:\n",
    "        model_file = pth + '.pth'\n",
    "    print(\"load model: {}\".format(model_file))\n",
    "    save_path = os.path.join(instance.pardir, instance.name, model_file)\n",
    "\n",
    "    model = three_view_net(701, droprate=0.5, pool='avg', stride=1, block=instance.block)\n",
    "    model.load_state_dict(torch.load(save_path))\n",
    "    model = model.cuda()\n",
    "    model.train(False)\n",
    "\n",
    "    # Create optimizer\n",
    "    for i in range(instance.block):\n",
    "        cls_name = 'classifier'+str(i)\n",
    "        c = getattr(model, cls_name)\n",
    "        c.classifier = nn.Sequential() \n",
    "\n",
    "    # Extract features\n",
    "    with torch.no_grad():\n",
    "        query_feature = instance.extract_feature(model,dataloaders['query_drone_160k'], view='drone', ms=multiple_scale)\n",
    "        gallery_feature = instance.extract_feature(model,dataloaders['gallery_satellite_160k'], view='satellite', ms=multiple_scale)\n",
    "    \n",
    "    query_feature = query_feature.cuda()\n",
    "    gallery_feature = gallery_feature.cuda()\n",
    "\n",
    "    gallery_label = np.array(gallery_label)\n",
    "    for i in tqdm(range(len(query_feature)), desc='Evaluate Rank10 results'):\n",
    "        result_rank10 = get_result_rank10(query_feature[i], gallery_feature, gallery_label)\n",
    "        results_rank10.append(result_rank10)\n",
    "        \n",
    "    results_rank10 = np.row_stack(results_rank10)\n",
    "    with open(save_file, 'w') as f:\n",
    "        for row in results_rank10:\n",
    "            f.write('\\t'.join(map(str, row)) + '\\n')\n",
    "\n",
    "    # zip\n",
    "    zip_name = os.path.join(os.getcwd(), 'answer.zip')\n",
    "    with zipfile.ZipFile(zip_name, 'w', zipfile.ZIP_DEFLATED) as zipf:\n",
    "        zipf.write(save_file, save_file)\n"
   ]
  },
  {
   "cell_type": "code",
   "execution_count": 39,
   "metadata": {},
   "outputs": [
    {
     "name": "stdout",
     "output_type": "stream",
     "text": [
      "Found dataset\n",
      "load model: net_180.pth\n"
     ]
    },
    {
     "name": "stderr",
     "output_type": "stream",
     "text": [
      "Extract drone feature: 100%|██████████| 4732/4732 [13:33<00:00,  5.82it/s]\n",
      "Extract satellite feature: 100%|██████████| 21055/21055 [2:04:11<00:00,  2.83it/s]\n",
      "Evaluate Rank10 results: 100%|██████████| 37855/37855 [10:54<00:00, 57.84it/s]\n"
     ]
    }
   ],
   "source": [
    "get_competition_submit(baseline_w)"
   ]
  },
  {
   "cell_type": "markdown",
   "metadata": {},
   "source": [
    "The score of UAVM'24 competition is Recall@1 37.79, strange."
   ]
  }
 ],
 "metadata": {
  "kernelspec": {
   "display_name": "pytorch",
   "language": "python",
   "name": "python3"
  },
  "language_info": {
   "codemirror_mode": {
    "name": "ipython",
    "version": 3
   },
   "file_extension": ".py",
   "mimetype": "text/x-python",
   "name": "python",
   "nbconvert_exporter": "python",
   "pygments_lexer": "ipython3",
   "version": "3.8.18"
  }
 },
 "nbformat": 4,
 "nbformat_minor": 2
}
